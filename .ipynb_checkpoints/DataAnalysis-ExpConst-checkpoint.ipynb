{
 "cells": [
  {
   "cell_type": "code",
   "execution_count": 1,
   "id": "34f18000",
   "metadata": {},
   "outputs": [],
   "source": [
    "import numpy as np\n",
    "import matplotlib.pyplot as plt\n",
    "import math as m\n",
    "import pandas as pd\n",
    "from scipy.optimize import curve_fit\n",
    "from scipy.stats import chisquare\n",
    "from IPython.display import display, Math\n",
    "plt.rcParams['figure.max_open_warning'] = 25"
   ]
  },
  {
   "cell_type": "code",
   "execution_count": 2,
   "id": "c7fbcb90",
   "metadata": {},
   "outputs": [],
   "source": [
    "t_unit = \"s\"\n",
    "v_unit = \"mVpp\"\n",
    "T_unit = \"K\"\n",
    "f_unit = \"Hz\""
   ]
  },
  {
   "cell_type": "code",
   "execution_count": 3,
   "id": "a0657f33",
   "metadata": {},
   "outputs": [],
   "source": [
    "# # Definition of the function to fit # #\n",
    "def f(x,a,b,c,d):\n",
    "    return a*np.exp(-x/b) + c*np.exp(-x/d)"
   ]
  },
  {
   "cell_type": "markdown",
   "id": "ac536efc",
   "metadata": {},
   "source": [
    "### User Functions [open only if needed; too much code :) ]"
   ]
  },
  {
   "cell_type": "code",
   "execution_count": 4,
   "id": "53a572e5",
   "metadata": {},
   "outputs": [],
   "source": [
    "# # Definition of the function to add incertity depending on the scale of the aparata # #\n",
    "def error(value):\n",
    "    if value < 1000 and value >= 100:\n",
    "      sensibility_error = 0.001/m.sqrt(12)\n",
    "    if value < 100 and value >= 10:\n",
    "      sensibility_error = 0.0001/m.sqrt(12)\n",
    "    if value < 10 and value >= 1:\n",
    "      sensibility_error = 0.00001/m.sqrt(12)\n",
    "    if value < 1 and value >= 0.1:\n",
    "      sensibility_error = 0.000001/m.sqrt(12)\n",
    "    reading_error = 0.0292*value #2.92% of the value\n",
    "    scale_error = 0.00025*10**5\n",
    "    err = m.sqrt( (sensibility_error)**2 + (reading_error)**2 +(scale_error)**2 )\n",
    "    return err\n",
    "\n",
    "\n",
    "\n",
    "def fitandplot(path, filename, function, initial, plot):\n",
    "    file = pd.ExcelFile(path+filename)\n",
    "    sheets = file.sheet_names\n",
    "    data = pd.read_excel(path+filename, sheet_name=None)\n",
    "\n",
    "    Q = []\n",
    "    errQ = []\n",
    "    Q2 = []\n",
    "    errQ2 = []\n",
    "    T_mean = []\n",
    "    errT = []\n",
    "\n",
    "    for sheet in sheets:\n",
    "        v = data[sheet]['Voltage']\n",
    "        v_error = [error(val) for val in v]\n",
    "        \n",
    "        t = data[sheet]['Time']\n",
    "\n",
    "        T = data[sheet]['T']\n",
    "        T_value = np.mean(T)\n",
    "        T_error = abs(T[1]-T[0])/2\n",
    "\n",
    "        f_0 = data[sheet]['f0'][0]\n",
    "        errf_0 = (0.003/100)*f_0\n",
    "\n",
    "        t_unit = \"s\"\n",
    "        v_unit = \"mVpp\"\n",
    "        T_unit = \"K\"\n",
    "        f_unit = \"Hz\"\n",
    "\n",
    "        resval,rescov = curve_fit(f, t, v, initial, sigma = v_error)\n",
    "        reserr = np.sqrt(np.diag(rescov))\n",
    "        R2 = 1 - (np.sum( ( v - f( t, *resval) )**2 ) / np.sum( ( v - np.mean(v) )**2 ))\n",
    "\n",
    "\n",
    "        # # Calculus of the Q-value # #\n",
    "        tau = [resval[1], resval[3]]\n",
    "        tau_err = [reserr[1], reserr[3]]\n",
    "        Q_value = [f_0*tau[0]*m.pi, f_0*tau[1]*m.pi]\n",
    "        Q_error = [Q_value[0]*m.sqrt( (tau_err[0]/tau[0])**2 + (errf_0/f_0)**2 ),\n",
    "                   Q_value[1]*m.sqrt( (tau_err[1]/tau[1])**2 + (errf_0/f_0)**2 )]\n",
    "        \n",
    "\n",
    "        Q.append(max(Q_value))\n",
    "        errQ.append(Q_error[Q_value.index(max(Q_value))])\n",
    "        Q2.append(min(Q_value))\n",
    "        errQ2.append(Q_error[Q_value.index(min(Q_value))])\n",
    "        T_mean.append(T_value)\n",
    "        errT.append(T_error)\n",
    "        \n",
    "        if plot == True :\n",
    "            # # Plot of the data with fit # #\n",
    "            #sampling time\n",
    "            h = max([abs((max(t)-min(t))/1000),1])\n",
    "            fit_time = np.arange(min(t), max(t)+h, h)\n",
    "            fit_amplitude = resval[0]*np.exp(-fit_time/resval[1])\n",
    "\n",
    "            fig = plt.figure(figsize=(6,4), dpi=100);\n",
    "            fig.suptitle(r\"Data from {0} of {1}\".format(sheet, filename))\n",
    "            plt.xlabel(r\"$t$ ({0})\".format(t_unit), size = 10)\n",
    "            plt.ylabel(r\"$Amplitude$ ({0})\".format(v_unit), size = 10)\n",
    "            plt.plot(t,v,'.',c='k', ms=6)\n",
    "            plt.errorbar(t, v, yerr=v_error, fmt=\".k\", capsize=3,alpha = 0.65,label=\"Data\")\n",
    "            plt.plot(fit_time,f(fit_time, *resval),'--',c='red',label=\"Fit\")\n",
    "\n",
    "            textstr = '\\n'.join((\n",
    "            r'Q = {0:.2f} $\\pm$ {1:.2f}'.format(max(Q_value),Q_error[Q_value.index(max(Q_value))]),\n",
    "            r'Q2 = {0:.2f} $\\pm$ {1:.2f}'.format(min(Q_value),Q_error[Q_value.index(min(Q_value))]),\n",
    "            r'T = {0:.2f} $\\pm$ {1:.2f} $\\mathrm{{{2}}}$'.format(T_value,T_error,T_unit),\n",
    "            r'$f_0$ = {0} $\\pm$ {1} $\\mathrm{{{2}}}$'.format(f_0,errf_0,f_unit)))\n",
    "\n",
    "            props = dict(boxstyle='square', facecolor='white', alpha=1)\n",
    "\n",
    "            plt.text(0.6, 0.6, textstr, fontsize=10,\n",
    "                    verticalalignment='top',transform=fig.transFigure, bbox=props)\n",
    "            \n",
    "            plt.legend()\n",
    "            %config InlineBackend.figure_format='retina'\n",
    "            plt.tight_layout()\n",
    "            plt.grid()\n",
    "            plt.show()\n",
    "\n",
    "    return Q,errQ,Q2,errQ2,T_mean,errT   "
   ]
  },
  {
   "cell_type": "markdown",
   "id": "b622ea37",
   "metadata": {},
   "source": [
    "### Analysis"
   ]
  },
  {
   "cell_type": "code",
   "execution_count": 5,
   "id": "212a0b94",
   "metadata": {},
   "outputs": [],
   "source": [
    "filename = \"04_04.xlsx\"\n",
    "path = \"C:/Users/Admin/Desktop/3DJoint_DataAnalysis/data/\"\n",
    "data = pd.read_excel(path+filename, sheet_name=None)"
   ]
  },
  {
   "cell_type": "code",
   "execution_count": 22,
   "id": "336bab80",
   "metadata": {},
   "outputs": [],
   "source": [
    "#This is needed to plot in floating window\n",
    "%matplotlib qt \n",
    "\n",
    "initial = [100,4,100,10]\n",
    "\n",
    "# The function fitandplot takes as input : \n",
    "# path, filename, the fitting function, the initial guess list \n",
    "# and a boolean variable if you want or not the plots\n",
    "# Returns 4 arrays containing Q, T and their errors\n",
    "\n",
    "Q, errQ,Q2, errQ2, T, errT = fitandplot(path, filename, f,initial, True)"
   ]
  },
  {
   "cell_type": "code",
   "execution_count": 25,
   "id": "84257ee5",
   "metadata": {},
   "outputs": [],
   "source": [
    "# We now plot the results from 04_04 and 06_04\n",
    "\n",
    "fig = plt.figure(figsize=(6,4), dpi=100);\n",
    "fig.suptitle('Q vs T')\n",
    "plt.xlabel(r\"$T$ ({0})\".format(T_unit), size = 10)\n",
    "plt.ylabel(r\"$Q$\",size = 10)\n",
    "\n",
    "\n",
    "plt.errorbar(T,Q, xerr = errT, yerr = errQ,fmt=\".\", capsize=3,label=\"Data \" + filename[0:-5])\n",
    "plt.errorbar(T,Q2, xerr = errT, yerr = errQ2,fmt=\".\", capsize=3,label=\"Data \" + filename[0:-5])\n",
    "\n",
    "plt.legend()\n",
    "%config InlineBackend.figure_format='retina'\n",
    "plt.tight_layout()\n",
    "plt.grid()\n",
    "plt.show()"
   ]
  }
 ],
 "metadata": {
  "kernelspec": {
   "display_name": "Python 3 (ipykernel)",
   "language": "python",
   "name": "python3"
  },
  "language_info": {
   "codemirror_mode": {
    "name": "ipython",
    "version": 3
   },
   "file_extension": ".py",
   "mimetype": "text/x-python",
   "name": "python",
   "nbconvert_exporter": "python",
   "pygments_lexer": "ipython3",
   "version": "3.10.9"
  }
 },
 "nbformat": 4,
 "nbformat_minor": 5
}
