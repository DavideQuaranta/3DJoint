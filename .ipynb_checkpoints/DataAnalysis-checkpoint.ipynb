{
 "cells": [
  {
   "cell_type": "code",
   "execution_count": 1,
   "id": "34f18000",
   "metadata": {},
   "outputs": [],
   "source": [
    "import numpy as np\n",
    "import matplotlib.pyplot as plt\n",
    "import math as m\n",
    "import pandas as pd\n",
    "from scipy.optimize import curve_fit\n",
    "from scipy.stats import chisquare\n",
    "from IPython.display import display, Math"
   ]
  },
  {
   "cell_type": "markdown",
   "id": "ac536efc",
   "metadata": {},
   "source": [
    "### User Functions"
   ]
  },
  {
   "cell_type": "code",
   "execution_count": 2,
   "id": "53a572e5",
   "metadata": {},
   "outputs": [],
   "source": [
    "# # Definition of the function to fit # #\n",
    "def f(x,a,b):\n",
    "    res = a*np.exp(-x/b)\n",
    "    return res\n",
    "\n",
    "# # Definition of the function to add incertity depending on the scale of the aparata # #\n",
    "def error(value):\n",
    "    if value < 1000 and value >= 100:\n",
    "      sensibility_error = 0.001/m.sqrt(12)\n",
    "    if value < 100 and value >= 10:\n",
    "      sensibility_error = 0.0001/m.sqrt(12)\n",
    "    if value < 10 and value >= 1:\n",
    "      sensibility_error = 0.00001/m.sqrt(12)\n",
    "    if value < 1 and value >= 0.1:\n",
    "      sensibility_error = 0.000001/m.sqrt(12)\n",
    "    reading_error = 0.0292*value #2.92% of the value\n",
    "    scale_error = 0.00025*10**5\n",
    "    err = m.sqrt( (sensibility_error)**2 + (reading_error)**2 +(scale_error)**2 )\n",
    "    return err"
   ]
  },
  {
   "cell_type": "code",
   "execution_count": null,
   "id": "212a0b94",
   "metadata": {},
   "outputs": [],
   "source": [
    "filename = \"04_04.xlsx\" #Select here the file to take the data\n",
    "path = \"C:/Users/Admin/Desktop/3DJoint/data/\"\n",
    "\n",
    "data = pd.read_excel(path+filename, sheet_name=None) #This puts the data of the day in the variable data\n",
    "f = pd.ExcelFile(path+filename)\n",
    "sheets = f.sheet_names\n",
    "#print(data)\n",
    "f"
   ]
  },
  {
   "cell_type": "code",
   "execution_count": 9,
   "id": "ce891629",
   "metadata": {},
   "outputs": [],
   "source": [
    "Q = []\n",
    "errQ = []\n",
    "T_mean = []\n",
    "errT = []"
   ]
  },
  {
   "cell_type": "code",
   "execution_count": 10,
   "id": "53c2596a",
   "metadata": {},
   "outputs": [
    {
     "ename": "TypeError",
     "evalue": "<pandas.io.excel._base.ExcelFile object at 0x0000028DC5276C50> is not a callable object",
     "output_type": "error",
     "traceback": [
      "\u001b[1;31m---------------------------------------------------------------------------\u001b[0m",
      "\u001b[1;31mTypeError\u001b[0m                                 Traceback (most recent call last)",
      "Cell \u001b[1;32mIn[10], line 28\u001b[0m\n\u001b[0;32m     26\u001b[0m \u001b[38;5;66;03m# # Fit of the data # #\u001b[39;00m\n\u001b[0;32m     27\u001b[0m initial \u001b[38;5;241m=\u001b[39m \u001b[38;5;28;01mNone\u001b[39;00m\u001b[38;5;66;03m#[0,60, 3, 125]\u001b[39;00m\n\u001b[1;32m---> 28\u001b[0m resval,rescov \u001b[38;5;241m=\u001b[39m \u001b[43mcurve_fit\u001b[49m\u001b[43m(\u001b[49m\u001b[43mf\u001b[49m\u001b[43m,\u001b[49m\u001b[43m \u001b[49m\u001b[43mt\u001b[49m\u001b[43m,\u001b[49m\u001b[43m \u001b[49m\u001b[43mv\u001b[49m\u001b[43m,\u001b[49m\u001b[43m \u001b[49m\u001b[43minitial\u001b[49m\u001b[43m,\u001b[49m\u001b[43m \u001b[49m\u001b[43msigma\u001b[49m\u001b[43m \u001b[49m\u001b[38;5;241;43m=\u001b[39;49m\u001b[43m \u001b[49m\u001b[43mv_error\u001b[49m\u001b[43m)\u001b[49m\n\u001b[0;32m     29\u001b[0m reserr \u001b[38;5;241m=\u001b[39m np\u001b[38;5;241m.\u001b[39msqrt(np\u001b[38;5;241m.\u001b[39mdiag(rescov))\n\u001b[0;32m     30\u001b[0m R2 \u001b[38;5;241m=\u001b[39m \u001b[38;5;241m1\u001b[39m \u001b[38;5;241m-\u001b[39m (np\u001b[38;5;241m.\u001b[39msum( ( v \u001b[38;5;241m-\u001b[39m f( t, \u001b[38;5;241m*\u001b[39mresval) )\u001b[38;5;241m*\u001b[39m\u001b[38;5;241m*\u001b[39m\u001b[38;5;241m2\u001b[39m ) \u001b[38;5;241m/\u001b[39m np\u001b[38;5;241m.\u001b[39msum( ( v \u001b[38;5;241m-\u001b[39m np\u001b[38;5;241m.\u001b[39mmean(v) )\u001b[38;5;241m*\u001b[39m\u001b[38;5;241m*\u001b[39m\u001b[38;5;241m2\u001b[39m ))\n",
      "File \u001b[1;32m~\\anaconda3\\lib\\site-packages\\scipy\\optimize\\_minpack_py.py:776\u001b[0m, in \u001b[0;36mcurve_fit\u001b[1;34m(f, xdata, ydata, p0, sigma, absolute_sigma, check_finite, bounds, method, jac, full_output, **kwargs)\u001b[0m\n\u001b[0;32m    552\u001b[0m \u001b[38;5;124;03m\"\"\"\u001b[39;00m\n\u001b[0;32m    553\u001b[0m \u001b[38;5;124;03mUse non-linear least squares to fit a function, f, to data.\u001b[39;00m\n\u001b[0;32m    554\u001b[0m \n\u001b[1;32m   (...)\u001b[0m\n\u001b[0;32m    772\u001b[0m \n\u001b[0;32m    773\u001b[0m \u001b[38;5;124;03m\"\"\"\u001b[39;00m\n\u001b[0;32m    774\u001b[0m \u001b[38;5;28;01mif\u001b[39;00m p0 \u001b[38;5;129;01mis\u001b[39;00m \u001b[38;5;28;01mNone\u001b[39;00m:\n\u001b[0;32m    775\u001b[0m     \u001b[38;5;66;03m# determine number of parameters by inspecting the function\u001b[39;00m\n\u001b[1;32m--> 776\u001b[0m     sig \u001b[38;5;241m=\u001b[39m \u001b[43m_getfullargspec\u001b[49m\u001b[43m(\u001b[49m\u001b[43mf\u001b[49m\u001b[43m)\u001b[49m\n\u001b[0;32m    777\u001b[0m     args \u001b[38;5;241m=\u001b[39m sig\u001b[38;5;241m.\u001b[39margs\n\u001b[0;32m    778\u001b[0m     \u001b[38;5;28;01mif\u001b[39;00m \u001b[38;5;28mlen\u001b[39m(args) \u001b[38;5;241m<\u001b[39m \u001b[38;5;241m2\u001b[39m:\n",
      "File \u001b[1;32m~\\anaconda3\\lib\\site-packages\\scipy\\_lib\\_util.py:329\u001b[0m, in \u001b[0;36mgetfullargspec_no_self\u001b[1;34m(func)\u001b[0m\n\u001b[0;32m    308\u001b[0m \u001b[38;5;28;01mdef\u001b[39;00m \u001b[38;5;21mgetfullargspec_no_self\u001b[39m(func):\n\u001b[0;32m    309\u001b[0m     \u001b[38;5;124;03m\"\"\"inspect.getfullargspec replacement using inspect.signature.\u001b[39;00m\n\u001b[0;32m    310\u001b[0m \n\u001b[0;32m    311\u001b[0m \u001b[38;5;124;03m    If func is a bound method, do not list the 'self' parameter.\u001b[39;00m\n\u001b[1;32m   (...)\u001b[0m\n\u001b[0;32m    327\u001b[0m \n\u001b[0;32m    328\u001b[0m \u001b[38;5;124;03m    \"\"\"\u001b[39;00m\n\u001b[1;32m--> 329\u001b[0m     sig \u001b[38;5;241m=\u001b[39m \u001b[43minspect\u001b[49m\u001b[38;5;241;43m.\u001b[39;49m\u001b[43msignature\u001b[49m\u001b[43m(\u001b[49m\u001b[43mfunc\u001b[49m\u001b[43m)\u001b[49m\n\u001b[0;32m    330\u001b[0m     args \u001b[38;5;241m=\u001b[39m [\n\u001b[0;32m    331\u001b[0m         p\u001b[38;5;241m.\u001b[39mname \u001b[38;5;28;01mfor\u001b[39;00m p \u001b[38;5;129;01min\u001b[39;00m sig\u001b[38;5;241m.\u001b[39mparameters\u001b[38;5;241m.\u001b[39mvalues()\n\u001b[0;32m    332\u001b[0m         \u001b[38;5;28;01mif\u001b[39;00m p\u001b[38;5;241m.\u001b[39mkind \u001b[38;5;129;01min\u001b[39;00m [inspect\u001b[38;5;241m.\u001b[39mParameter\u001b[38;5;241m.\u001b[39mPOSITIONAL_OR_KEYWORD,\n\u001b[0;32m    333\u001b[0m                       inspect\u001b[38;5;241m.\u001b[39mParameter\u001b[38;5;241m.\u001b[39mPOSITIONAL_ONLY]\n\u001b[0;32m    334\u001b[0m     ]\n\u001b[0;32m    335\u001b[0m     varargs \u001b[38;5;241m=\u001b[39m [\n\u001b[0;32m    336\u001b[0m         p\u001b[38;5;241m.\u001b[39mname \u001b[38;5;28;01mfor\u001b[39;00m p \u001b[38;5;129;01min\u001b[39;00m sig\u001b[38;5;241m.\u001b[39mparameters\u001b[38;5;241m.\u001b[39mvalues()\n\u001b[0;32m    337\u001b[0m         \u001b[38;5;28;01mif\u001b[39;00m p\u001b[38;5;241m.\u001b[39mkind \u001b[38;5;241m==\u001b[39m inspect\u001b[38;5;241m.\u001b[39mParameter\u001b[38;5;241m.\u001b[39mVAR_POSITIONAL\n\u001b[0;32m    338\u001b[0m     ]\n",
      "File \u001b[1;32m~\\anaconda3\\lib\\inspect.py:3253\u001b[0m, in \u001b[0;36msignature\u001b[1;34m(obj, follow_wrapped, globals, locals, eval_str)\u001b[0m\n\u001b[0;32m   3251\u001b[0m \u001b[38;5;28;01mdef\u001b[39;00m \u001b[38;5;21msignature\u001b[39m(obj, \u001b[38;5;241m*\u001b[39m, follow_wrapped\u001b[38;5;241m=\u001b[39m\u001b[38;5;28;01mTrue\u001b[39;00m, \u001b[38;5;28mglobals\u001b[39m\u001b[38;5;241m=\u001b[39m\u001b[38;5;28;01mNone\u001b[39;00m, \u001b[38;5;28mlocals\u001b[39m\u001b[38;5;241m=\u001b[39m\u001b[38;5;28;01mNone\u001b[39;00m, eval_str\u001b[38;5;241m=\u001b[39m\u001b[38;5;28;01mFalse\u001b[39;00m):\n\u001b[0;32m   3252\u001b[0m     \u001b[38;5;124;03m\"\"\"Get a signature object for the passed callable.\"\"\"\u001b[39;00m\n\u001b[1;32m-> 3253\u001b[0m     \u001b[38;5;28;01mreturn\u001b[39;00m \u001b[43mSignature\u001b[49m\u001b[38;5;241;43m.\u001b[39;49m\u001b[43mfrom_callable\u001b[49m\u001b[43m(\u001b[49m\u001b[43mobj\u001b[49m\u001b[43m,\u001b[49m\u001b[43m \u001b[49m\u001b[43mfollow_wrapped\u001b[49m\u001b[38;5;241;43m=\u001b[39;49m\u001b[43mfollow_wrapped\u001b[49m\u001b[43m,\u001b[49m\n\u001b[0;32m   3254\u001b[0m \u001b[43m                                   \u001b[49m\u001b[38;5;28;43mglobals\u001b[39;49m\u001b[38;5;241;43m=\u001b[39;49m\u001b[38;5;28;43mglobals\u001b[39;49m\u001b[43m,\u001b[49m\u001b[43m \u001b[49m\u001b[38;5;28;43mlocals\u001b[39;49m\u001b[38;5;241;43m=\u001b[39;49m\u001b[38;5;28;43mlocals\u001b[39;49m\u001b[43m,\u001b[49m\u001b[43m \u001b[49m\u001b[43meval_str\u001b[49m\u001b[38;5;241;43m=\u001b[39;49m\u001b[43meval_str\u001b[49m\u001b[43m)\u001b[49m\n",
      "File \u001b[1;32m~\\anaconda3\\lib\\inspect.py:3001\u001b[0m, in \u001b[0;36mSignature.from_callable\u001b[1;34m(cls, obj, follow_wrapped, globals, locals, eval_str)\u001b[0m\n\u001b[0;32m   2997\u001b[0m \u001b[38;5;129m@classmethod\u001b[39m\n\u001b[0;32m   2998\u001b[0m \u001b[38;5;28;01mdef\u001b[39;00m \u001b[38;5;21mfrom_callable\u001b[39m(\u001b[38;5;28mcls\u001b[39m, obj, \u001b[38;5;241m*\u001b[39m,\n\u001b[0;32m   2999\u001b[0m                   follow_wrapped\u001b[38;5;241m=\u001b[39m\u001b[38;5;28;01mTrue\u001b[39;00m, \u001b[38;5;28mglobals\u001b[39m\u001b[38;5;241m=\u001b[39m\u001b[38;5;28;01mNone\u001b[39;00m, \u001b[38;5;28mlocals\u001b[39m\u001b[38;5;241m=\u001b[39m\u001b[38;5;28;01mNone\u001b[39;00m, eval_str\u001b[38;5;241m=\u001b[39m\u001b[38;5;28;01mFalse\u001b[39;00m):\n\u001b[0;32m   3000\u001b[0m     \u001b[38;5;124;03m\"\"\"Constructs Signature for the given callable object.\"\"\"\u001b[39;00m\n\u001b[1;32m-> 3001\u001b[0m     \u001b[38;5;28;01mreturn\u001b[39;00m \u001b[43m_signature_from_callable\u001b[49m\u001b[43m(\u001b[49m\u001b[43mobj\u001b[49m\u001b[43m,\u001b[49m\u001b[43m \u001b[49m\u001b[43msigcls\u001b[49m\u001b[38;5;241;43m=\u001b[39;49m\u001b[38;5;28;43mcls\u001b[39;49m\u001b[43m,\u001b[49m\n\u001b[0;32m   3002\u001b[0m \u001b[43m                                    \u001b[49m\u001b[43mfollow_wrapper_chains\u001b[49m\u001b[38;5;241;43m=\u001b[39;49m\u001b[43mfollow_wrapped\u001b[49m\u001b[43m,\u001b[49m\n\u001b[0;32m   3003\u001b[0m \u001b[43m                                    \u001b[49m\u001b[38;5;28;43mglobals\u001b[39;49m\u001b[38;5;241;43m=\u001b[39;49m\u001b[38;5;28;43mglobals\u001b[39;49m\u001b[43m,\u001b[49m\u001b[43m \u001b[49m\u001b[38;5;28;43mlocals\u001b[39;49m\u001b[38;5;241;43m=\u001b[39;49m\u001b[38;5;28;43mlocals\u001b[39;49m\u001b[43m,\u001b[49m\u001b[43m \u001b[49m\u001b[43meval_str\u001b[49m\u001b[38;5;241;43m=\u001b[39;49m\u001b[43meval_str\u001b[49m\u001b[43m)\u001b[49m\n",
      "File \u001b[1;32m~\\anaconda3\\lib\\inspect.py:2395\u001b[0m, in \u001b[0;36m_signature_from_callable\u001b[1;34m(obj, follow_wrapper_chains, skip_bound_arg, globals, locals, eval_str, sigcls)\u001b[0m\n\u001b[0;32m   2386\u001b[0m _get_signature_of \u001b[38;5;241m=\u001b[39m functools\u001b[38;5;241m.\u001b[39mpartial(_signature_from_callable,\n\u001b[0;32m   2387\u001b[0m                             follow_wrapper_chains\u001b[38;5;241m=\u001b[39mfollow_wrapper_chains,\n\u001b[0;32m   2388\u001b[0m                             skip_bound_arg\u001b[38;5;241m=\u001b[39mskip_bound_arg,\n\u001b[1;32m   (...)\u001b[0m\n\u001b[0;32m   2391\u001b[0m                             sigcls\u001b[38;5;241m=\u001b[39msigcls,\n\u001b[0;32m   2392\u001b[0m                             eval_str\u001b[38;5;241m=\u001b[39meval_str)\n\u001b[0;32m   2394\u001b[0m \u001b[38;5;28;01mif\u001b[39;00m \u001b[38;5;129;01mnot\u001b[39;00m callable(obj):\n\u001b[1;32m-> 2395\u001b[0m     \u001b[38;5;28;01mraise\u001b[39;00m \u001b[38;5;167;01mTypeError\u001b[39;00m(\u001b[38;5;124m'\u001b[39m\u001b[38;5;132;01m{!r}\u001b[39;00m\u001b[38;5;124m is not a callable object\u001b[39m\u001b[38;5;124m'\u001b[39m\u001b[38;5;241m.\u001b[39mformat(obj))\n\u001b[0;32m   2397\u001b[0m \u001b[38;5;28;01mif\u001b[39;00m \u001b[38;5;28misinstance\u001b[39m(obj, types\u001b[38;5;241m.\u001b[39mMethodType):\n\u001b[0;32m   2398\u001b[0m     \u001b[38;5;66;03m# In this case we skip the first parameter of the underlying\u001b[39;00m\n\u001b[0;32m   2399\u001b[0m     \u001b[38;5;66;03m# function (usually `self` or `cls`).\u001b[39;00m\n\u001b[0;32m   2400\u001b[0m     sig \u001b[38;5;241m=\u001b[39m _get_signature_of(obj\u001b[38;5;241m.\u001b[39m\u001b[38;5;18m__func__\u001b[39m)\n",
      "\u001b[1;31mTypeError\u001b[0m: <pandas.io.excel._base.ExcelFile object at 0x0000028DC5276C50> is not a callable object"
     ]
    }
   ],
   "source": [
    "%matplotlib qt\n",
    "sheets = ['Sheet1']\n",
    "for sheet in sheets:\n",
    "    v = data[sheet]['Voltage']\n",
    "#     v = v[0:-12]\n",
    "    v_error = [error(val) for val in v]\n",
    "\n",
    "    t = data[sheet]['Time']\n",
    "#     t = t[0:-12]\n",
    "\n",
    "    T = data[sheet]['T']\n",
    "    T_ini = T[0]\n",
    "    T_fin = T[1]\n",
    "    T_value = np.mean(T)\n",
    "    T_error = abs(T_fin-T_ini)/2\n",
    "\n",
    "    f_0 = data[sheet]['f0'][0]\n",
    "    errf_0 = (0.003/100)*f_0\n",
    "\n",
    "    # # Declare units for the data # #\n",
    "    t_unit = \"s\"\n",
    "    v_unit = \"mVpp\"\n",
    "    T_unit = \"K\"\n",
    "    f_unit = \"Hz\"\n",
    "\n",
    "    # # Fit of the data # #\n",
    "    initial = None#[0,60, 3, 125]\n",
    "    resval,rescov = curve_fit(f, t, v, initial, sigma = v_error)\n",
    "    reserr = np.sqrt(np.diag(rescov))\n",
    "    R2 = 1 - (np.sum( ( v - f( t, *resval) )**2 ) / np.sum( ( v - np.mean(v) )**2 ))\n",
    "\n",
    "    # # Plot of the data with fit # #\n",
    "\n",
    "    #sampling time\n",
    "    h = max([abs((max(t)-min(t))/1000),1])\n",
    "    fit_time = np.arange(min(t), max(t)+h, h)\n",
    "    fit_amplitude = resval[0]*np.exp(-fit_time/resval[1])\n",
    "\n",
    "    fig = plt.figure(figsize=(6,4), dpi=100);\n",
    "    fig.suptitle(r\"Data from {0} of {1}\".format(sheet, filename))\n",
    "    plt.xlabel(r\"$t$ ({0})\".format(t_unit), size = 10)\n",
    "    plt.ylabel(r\"$Amplitude$ ({0})\".format(v_unit), size = 10)\n",
    "    plt.plot(t,v,'.',c='k', ms=6)\n",
    "    plt.errorbar(t, v, yerr=v_error, fmt=\".k\", capsize=3,alpha = 0.65,label=\"Data\")\n",
    "    plt.plot(fit_time,fit_amplitude,'--',c='red',label=\"Fit\")\n",
    "    plt.legend()\n",
    "    #to make it look good\n",
    "    %config InlineBackend.figure_format='retina'\n",
    "    plt.tight_layout()\n",
    "    plt.grid()\n",
    "    plt.show()\n",
    "\n",
    "    # # Calculus of the Q-value # #\n",
    "    Q_value = f_0*resval[1]*m.pi\n",
    "    Q_error = Q_value*m.sqrt( (reserr[1]/resval[1])**2 + (errf_0/f_0)**2 )\n",
    "    \n",
    "    Q.append(Q_value)\n",
    "    errQ.append(Q_error)\n",
    "    T_mean.append(T_value)\n",
    "    errT.append(T_error)\n",
    "    \n",
    "    textstr = '\\n'.join((\n",
    "    r'Q = {0:.2f} $\\pm$ {1:.2f}'.format(Q_value,Q_error),\n",
    "    r'T = {0:.2f} $\\pm$ {1:.2f} $\\mathrm{{{2}}}$'.format(T_value,T_error,T_unit),\n",
    "    r'$f_0$ = {0} $\\pm$ {1} $\\mathrm{{{2}}}$'.format(f_0,errf_0,f_unit)))\n",
    "\n",
    "    props = dict(boxstyle='square', facecolor='white', alpha=1)\n",
    "\n",
    "    plt.text(0.6, 0.6, textstr, fontsize=10,\n",
    "            verticalalignment='top',transform=fig.transFigure, bbox=props)"
   ]
  },
  {
   "cell_type": "code",
   "execution_count": null,
   "id": "84257ee5",
   "metadata": {},
   "outputs": [],
   "source": [
    "%matplotlib qt\n",
    "fig = plt.figure(figsize=(6,4), dpi=100);\n",
    "fig.suptitle(Q vs T)\n",
    "plt.xlabel(r\"$T$ ({0})\".format(T_unit), size = 10)\n",
    "plt.ylabel(r\"$Q$ ({0})\",size = 10)\n",
    "plt.errorbar(Q,T, xerr = errT, yerr = errQ)\n",
    "plt.legend()\n",
    "#to make it look good\n",
    "%config InlineBackend.figure_format='retina'\n",
    "plt.tight_layout()\n",
    "plt.grid()\n",
    "plt.show()"
   ]
  }
 ],
 "metadata": {
  "kernelspec": {
   "display_name": "Python 3 (ipykernel)",
   "language": "python",
   "name": "python3"
  },
  "language_info": {
   "codemirror_mode": {
    "name": "ipython",
    "version": 3
   },
   "file_extension": ".py",
   "mimetype": "text/x-python",
   "name": "python",
   "nbconvert_exporter": "python",
   "pygments_lexer": "ipython3",
   "version": "3.10.9"
  }
 },
 "nbformat": 4,
 "nbformat_minor": 5
}
