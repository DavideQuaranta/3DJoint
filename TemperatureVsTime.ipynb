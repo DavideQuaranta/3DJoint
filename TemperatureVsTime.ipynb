{
 "cells": [
  {
   "cell_type": "code",
   "execution_count": 28,
   "id": "ae447cbb",
   "metadata": {},
   "outputs": [],
   "source": [
    "import numpy as np\n",
    "import matplotlib.pyplot as plt\n",
    "import math as m\n",
    "import pandas as pd\n",
    "from scipy.optimize import curve_fit\n",
    "from IPython.display import display, Math"
   ]
  },
  {
   "cell_type": "code",
   "execution_count": 29,
   "id": "7367aeb1",
   "metadata": {},
   "outputs": [],
   "source": [
    "path = \"C:/Users/Admin/Desktop/3DJoint_DataAnalysis/data/\""
   ]
  },
  {
   "cell_type": "code",
   "execution_count": 30,
   "id": "13ddc2d0",
   "metadata": {},
   "outputs": [],
   "source": [
    "def convert(times):\n",
    "  converted = []\n",
    "  for i in range(len(times)):\n",
    "    hours = int(data['time'].values[i][0:2])\n",
    "    minutes = int(data['time'].values[i][3:5])\n",
    "    seconds = int(data['time'].values[i][6:8])\n",
    "    converted.append(seconds + 60*minutes + 60*60*hours)\n",
    "  return converted"
   ]
  },
  {
   "cell_type": "code",
   "execution_count": 37,
   "id": "b2781658",
   "metadata": {},
   "outputs": [],
   "source": [
    "%matplotlib qt\n",
    "for i in range(5):\n",
    "    data = pd.read_excel(path+f\"TvsTime_{i+1}.xlsx\")\n",
    "    timesec = np.array(convert(data['time']))\n",
    "    T = data['T']\n",
    "    plt.plot(timesec,T, label = f'TvsTime_{i+1}')\n",
    "plt.legend()\n",
    "plt.grid()\n",
    "plt.show()"
   ]
  },
  {
   "cell_type": "code",
   "execution_count": 36,
   "id": "6d7c2ee3",
   "metadata": {},
   "outputs": [],
   "source": [
    "plt.close()"
   ]
  }
 ],
 "metadata": {
  "kernelspec": {
   "display_name": "Python 3 (ipykernel)",
   "language": "python",
   "name": "python3"
  },
  "language_info": {
   "codemirror_mode": {
    "name": "ipython",
    "version": 3
   },
   "file_extension": ".py",
   "mimetype": "text/x-python",
   "name": "python",
   "nbconvert_exporter": "python",
   "pygments_lexer": "ipython3",
   "version": "3.10.9"
  }
 },
 "nbformat": 4,
 "nbformat_minor": 5
}
