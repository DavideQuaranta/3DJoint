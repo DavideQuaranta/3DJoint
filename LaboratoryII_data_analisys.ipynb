{
  "nbformat": 4,
  "nbformat_minor": 0,
  "metadata": {
    "colab": {
      "provenance": [],
      "include_colab_link": true
    },
    "kernelspec": {
      "name": "python3",
      "display_name": "Python 3"
    },
    "language_info": {
      "name": "python"
    }
  },
  "cells": [
    {
      "cell_type": "markdown",
      "metadata": {
        "id": "view-in-github",
        "colab_type": "text"
      },
      "source": [
        "<a href=\"https://colab.research.google.com/github/DavideQuaranta/3DJoint/blob/main/LaboratoryII_data_analisys.ipynb\" target=\"_parent\"><img src=\"https://colab.research.google.com/assets/colab-badge.svg\" alt=\"Open In Colab\"/></a>"
      ]
    },
    {
      "cell_type": "markdown",
      "source": [
        "# Introduction"
      ],
      "metadata": {
        "id": "U9oNdsLPzLGn"
      }
    },
    {
      "cell_type": "markdown",
      "source": [
        "First we import all the libraries and functions needed"
      ],
      "metadata": {
        "id": "4ADTei2y1jn1"
      }
    },
    {
      "cell_type": "code",
      "execution_count": null,
      "metadata": {
        "id": "WbLUoCBDzHA1"
      },
      "outputs": [],
      "source": [
        "import numpy as np\n",
        "import matplotlib.pyplot as plt\n",
        "import math as m\n",
        "from scipy.optimize import curve_fit\n",
        "from IPython.display import display, Math"
      ]
    },
    {
      "cell_type": "markdown",
      "source": [
        "Now we define the decreasing exponential as the function to fit our data and the vector of Q and T values"
      ],
      "metadata": {
        "id": "NFuSnUE21od7"
      }
    },
    {
      "cell_type": "code",
      "source": [
        "# # Definition of the function to fit # #\n",
        "def f(x,a,b):\n",
        "    aux = a*np.exp(-x/b)\n",
        "    return aux\n",
        "\n",
        "# # Definition of global arrays of Q and T # #\n",
        "# Total number of data #\n",
        "N = 4\n",
        "Q = np.zeros(N)\n",
        "errQ = np.zeros(N)\n",
        "T = np.zeros(N)\n",
        "errT = np.zeros(N)"
      ],
      "metadata": {
        "id": "K92rpXGS1hwt"
      },
      "execution_count": null,
      "outputs": []
    },
    {
      "cell_type": "markdown",
      "source": [
        "# Data 1"
      ],
      "metadata": {
        "id": "SpkPbqWz0jF5"
      }
    },
    {
      "cell_type": "code",
      "source": [
        "# # Import the values of the data, time,amplitude in voltage and temperature from file # #\n",
        "v= np.loadtxt( \"data1.txt\" , unpack = True , delimiter = \"\\t\",usecols = (0))\n",
        "v_error = v*0.003/100\n",
        "\n",
        "# # Time interval # #\n",
        "dt = 8\n",
        "t = np.arange(0,dt*len(v),dt)\n",
        "\n",
        "# # Frecuency and temperature of work\n",
        "T_ini = 24\n",
        "T_fin = 25.2\n",
        "T_value = np.mean( [T_ini,T_fin])\n",
        "errT_value = 0\n",
        "\n",
        "f_0 = 1.5781\n",
        "errf_0 = 0\n",
        "\n",
        "# # Declare units for the data # #\n",
        "t_unit = \"s\"\n",
        "v_unit = \"mVpp\"\n",
        "T_unit = \"K\"\n",
        "f_unit = \"Hz\"\n",
        "\n",
        "# # Fit of the data # #\n",
        "resval,rescov = curve_fit( f, t, v, [200,10],sigma = v_error)\n",
        "reserr = np.sqrt(np.diag(rescov))\n",
        "R2 = 1 - (np.sum( ( v - f( t, *resval) )**2 ) / np.sum( ( v - np.mean(v) )**2 ))\n",
        "\n",
        "\n",
        "# # Plot of the data with fit # #\n",
        "\n",
        "#sampling time\n",
        "h = max([abs((max(t)-min(t))/1000),1])\n",
        "fit_time = np.arange(min(t), max(t)+h, h)\n",
        "fit_amplitude = resval[0]*np.exp(-fit_time/resval[1])\n",
        "\n",
        "fig = plt.figure(figsize=(6,4), dpi=100);\n",
        "fig.suptitle(r\"Data for frecuency $f_0 = {0}$ {1} & temperature $T = {2:.1f}$ {3}\".format(f_0, f_unit, T_value, T_unit), size = 15)\n",
        "#(Data and fit plot)\n",
        "plt.grid()\n",
        "plt.xlabel(r\"$t$ ({0})\".format(t_unit), size = 10)\n",
        "plt.ylabel(r\"$Amplitude$ ({0})\".format(v_unit), size = 10)\n",
        "plt.plot(t,v,'.',c='k', ms=6)\n",
        "plt.errorbar(t, v, yerr=v_error, fmt=\".k\", capsize=0,alpha = 0.65,label=\"Data\")\n",
        "plt.plot(fit_time,fit_amplitude,'--',c='red',label=\"Fit\")\n",
        "plt.legend()\n",
        "#to make it look good\n",
        "plt.tight_layout()\n",
        "plt.show()\n",
        "\n",
        "# # Calculus of the Q-value # #\n",
        "Q_value = f_0*resval[1]*m.pi\n",
        "Q_error = Q_value*m.sqrt( (reserr[1]/resval[1])**2 + (errf_0/f_0)**2 )\n",
        "\n",
        "# # Display results # #\n",
        "print(\"\\nFor a fit of the type\")\n",
        "display(Math(\"y = a·\\exp(-x/b)\"))\n",
        "print(\"we got:\")\n",
        "display(Math(\"a = {0:.1f} \\pm {1:.1f}\".format(resval[0],reserr[0])))\n",
        "display(Math(\"b = {0:.0f} \\pm {1:.0f}\".format(resval[1],reserr[1])))\n",
        "display(Math(\"R^2= {0:.5f}\".format(R2)))\n",
        "print(\"\\nThis gives us a Q value of:\")\n",
        "display(Math(\"Q = {0:.0f} \\pm {1:.0f}\".format(Q_value,Q_error)))\n",
        "print(\"\\nFor a frecuency of:\")\n",
        "display(Math(\"f_0 = {0}\\pm{1} ~\\mathrm{{{2}}}\".format(f_0,errf_0,f_unit)))\n",
        "print(\"\\nFor a Temperature of:\")\n",
        "display(Math(\"T={0}\\pm{1} ~\\mathrm{{{2}}}\".format(T_value,errT_value,T_unit)))\n",
        "\n",
        "# # Store the value of Q and T # #\n",
        "i = 0\n",
        "Q[i] = Q_value\n",
        "errQ[i] = Q_error\n",
        "T[i] = T_value\n",
        "errT[i] = errT_value"
      ],
      "metadata": {
        "colab": {
          "base_uri": "https://localhost:8080/",
          "height": 719
        },
        "id": "PsXOjlRc0VCo",
        "outputId": "ecae77d9-47ef-4349-f7e5-868281350cfd"
      },
      "execution_count": null,
      "outputs": [
        {
          "output_type": "display_data",
          "data": {
            "text/plain": [
              "<Figure size 600x400 with 1 Axes>"
            ],
            "image/png": "[encoded data removed]"
          },
          "metadata": {
            "needs_background": "light"
          }
        },
        {
          "output_type": "stream",
          "name": "stdout",
          "text": [
            "\n",
            "For a fit of the type\n"
          ]
        },
        {
          "output_type": "display_data",
          "data": {
            "text/plain": [
              "<IPython.core.display.Math object>"
            ],
            "text/latex": "$\\displaystyle y = a·\\exp(-x/b)$"
          },
          "metadata": {}
        },
        {
          "output_type": "stream",
          "name": "stdout",
          "text": [
            "we got:\n"
          ]
        },
        {
          "output_type": "display_data",
          "data": {
            "text/plain": [
              "<IPython.core.display.Math object>"
            ],
            "text/latex": "$\\displaystyle a = 343.3 \\pm 13.9$"
          },
          "metadata": {}
        },
        {
          "output_type": "display_data",
          "data": {
            "text/plain": [
              "<IPython.core.display.Math object>"
            ],
            "text/latex": "$\\displaystyle b = 102 \\pm 2$"
          },
          "metadata": {}
        },
        {
          "output_type": "display_data",
          "data": {
            "text/plain": [
              "<IPython.core.display.Math object>"
            ],
            "text/latex": "$\\displaystyle R^2= 0.89064$"
          },
          "metadata": {}
        },
        {
          "output_type": "stream",
          "name": "stdout",
          "text": [
            "\n",
            "This gives us a Q value of:\n"
          ]
        },
        {
          "output_type": "display_data",
          "data": {
            "text/plain": [
              "<IPython.core.display.Math object>"
            ],
            "text/latex": "$\\displaystyle Q = 507 \\pm 12$"
          },
          "metadata": {}
        },
        {
          "output_type": "stream",
          "name": "stdout",
          "text": [
            "\n",
            "For a frecuency of:\n"
          ]
        },
        {
          "output_type": "display_data",
          "data": {
            "text/plain": [
              "<IPython.core.display.Math object>"
            ],
            "text/latex": "$\\displaystyle f_0 = 1.5781\\pm0 ~\\mathrm{Hz}$"
          },
          "metadata": {}
        },
        {
          "output_type": "stream",
          "name": "stdout",
          "text": [
            "\n",
            "For a Temperature of:\n"
          ]
        },
        {
          "output_type": "display_data",
          "data": {
            "text/plain": [
              "<IPython.core.display.Math object>"
            ],
            "text/latex": "$\\displaystyle T=24.6\\pm0 ~\\mathrm{K}$"
          },
          "metadata": {}
        }
      ]
    },
    {
      "cell_type": "markdown",
      "source": [
        "# Data 2"
      ],
      "metadata": {
        "id": "DW9fGgWz2Czi"
      }
    },
    {
      "cell_type": "code",
      "source": [
        "# # Import the values of the data, time,amplitude in voltage and temperature from file # #\n",
        "v= np.loadtxt( \"data2.txt\" , unpack = True , delimiter = \"\\t\",usecols = (0))\n",
        "v_error = v*0.003/100\n",
        "\n",
        "# # Time interval # #\n",
        "dt = 8\n",
        "t = np.arange(0,dt*len(v),dt)\n",
        "\n",
        "# # Frecuency and temperature of work\n",
        "T_ini = 21.56\n",
        "T_fin = 20.717\n",
        "T_value = np.mean( [T_ini,T_fin])\n",
        "errT_value = 0\n",
        "\n",
        "f_0 = 1.5781\n",
        "errf_0 = 0\n",
        "\n",
        "# # Declare units for the data # #\n",
        "t_unit = \"s\"\n",
        "v_unit = \"mVpp\"\n",
        "T_unit = \"K\"\n",
        "f_unit = \"Hz\"\n",
        "\n",
        "# # Fit of the data # #\n",
        "resval,rescov = curve_fit( f, t, v, [200,10],sigma = v_error)\n",
        "reserr = np.sqrt(np.diag(rescov))\n",
        "R2 = 1 - (np.sum( ( v - f( t, *resval) )**2 ) / np.sum( ( v - np.mean(v) )**2 ))\n",
        "\n",
        "\n",
        "# # Plot of the data with fit # #\n",
        "\n",
        "#sampling time\n",
        "h = max([abs((max(t)-min(t))/1000),1])\n",
        "fit_time = np.arange(min(t), max(t)+h, h)\n",
        "fit_amplitude = resval[0]*np.exp(-fit_time/resval[1])\n",
        "\n",
        "fig = plt.figure(figsize=(6,4), dpi=100);\n",
        "fig.suptitle(r\"Data for frecuency $f_0 = {0}$ {1} & temperature $T = {2:.1f}$ {3}\".format(f_0, f_unit, T_value, T_unit), size = 15)\n",
        "#(Data and fit plot)\n",
        "plt.grid()\n",
        "plt.xlabel(r\"$t$ ({0})\".format(t_unit), size = 10)\n",
        "plt.ylabel(r\"$Amplitude$ ({0})\".format(v_unit), size = 10)\n",
        "plt.plot(t,v,'.',c='k', ms=6)\n",
        "plt.errorbar(t, v, yerr=v_error, fmt=\".k\", capsize=0,alpha = 0.65,label=\"Data\")\n",
        "plt.plot(fit_time,fit_amplitude,'--',c='red',label=\"Fit\")\n",
        "plt.legend()\n",
        "#to make it look good\n",
        "plt.tight_layout()\n",
        "plt.show()\n",
        "\n",
        "# # Calculus of the Q-value # #\n",
        "Q_value = f_0*resval[1]*m.pi\n",
        "Q_error = Q_value*m.sqrt( (reserr[1]/resval[1])**2 + (errf_0/f_0)**2 )\n",
        "\n",
        "# # Display results # #\n",
        "print(\"\\nFor a fit of the type\")\n",
        "display(Math(\"y = a·\\exp(-x/b)\"))\n",
        "print(\"we got:\")\n",
        "display(Math(\"a = {0:.1f} \\pm {1:.1f}\".format(resval[0],reserr[0])))\n",
        "display(Math(\"b = {0:.0f} \\pm {1:.0f}\".format(resval[1],reserr[1])))\n",
        "display(Math(\"R^2= {0:.5f}\".format(R2)))\n",
        "print(\"\\nThis gives us a Q value of:\")\n",
        "display(Math(\"Q = {0:.0f} \\pm {1:.0f}\".format(Q_value,Q_error)))\n",
        "print(\"\\nFor a frecuency of:\")\n",
        "display(Math(\"f_0 = {0}\\pm{1} ~\\mathrm{{{2}}}\".format(f_0,errf_0,f_unit)))\n",
        "print(\"\\nFor a Temperature of:\")\n",
        "display(Math(\"T={0}\\pm{1} ~\\mathrm{{{2}}}\".format(T_value,errT_value,T_unit)))\n",
        "\n",
        "# # Store the value of Q and T # #\n",
        "i = 1\n",
        "Q[i] = Q_value\n",
        "errQ[i] = Q_error\n",
        "T[i] = T_value\n",
        "errT[i] = errT_value"
      ],
      "metadata": {
        "colab": {
          "base_uri": "https://localhost:8080/",
          "height": 719
        },
        "id": "e1Yd53Hs4M1q",
        "outputId": "cd3d6859-2a04-4aaf-805c-fcf48920d3f1"
      },
      "execution_count": null,
      "outputs": [
        {
          "output_type": "display_data",
          "data": {
            "text/plain": [
              "<Figure size 600x400 with 1 Axes>"
            ],
            "image/png": "[encoded data removed]"
          },
          "metadata": {
            "needs_background": "light"
          }
        },
        {
          "output_type": "stream",
          "name": "stdout",
          "text": [
            "\n",
            "For a fit of the type\n"
          ]
        },
        {
          "output_type": "display_data",
          "data": {
            "text/plain": [
              "<IPython.core.display.Math object>"
            ],
            "text/latex": "$\\displaystyle y = a·\\exp(-x/b)$"
          },
          "metadata": {}
        },
        {
          "output_type": "stream",
          "name": "stdout",
          "text": [
            "we got:\n"
          ]
        },
        {
          "output_type": "display_data",
          "data": {
            "text/plain": [
              "<IPython.core.display.Math object>"
            ],
            "text/latex": "$\\displaystyle a = 321.0 \\pm 11.8$"
          },
          "metadata": {}
        },
        {
          "output_type": "display_data",
          "data": {
            "text/plain": [
              "<IPython.core.display.Math object>"
            ],
            "text/latex": "$\\displaystyle b = 103 \\pm 2$"
          },
          "metadata": {}
        },
        {
          "output_type": "display_data",
          "data": {
            "text/plain": [
              "<IPython.core.display.Math object>"
            ],
            "text/latex": "$\\displaystyle R^2= 0.91505$"
          },
          "metadata": {}
        },
        {
          "output_type": "stream",
          "name": "stdout",
          "text": [
            "\n",
            "This gives us a Q value of:\n"
          ]
        },
        {
          "output_type": "display_data",
          "data": {
            "text/plain": [
              "<IPython.core.display.Math object>"
            ],
            "text/latex": "$\\displaystyle Q = 510 \\pm 11$"
          },
          "metadata": {}
        },
        {
          "output_type": "stream",
          "name": "stdout",
          "text": [
            "\n",
            "For a frecuency of:\n"
          ]
        },
        {
          "output_type": "display_data",
          "data": {
            "text/plain": [
              "<IPython.core.display.Math object>"
            ],
            "text/latex": "$\\displaystyle f_0 = 1.5781\\pm0 ~\\mathrm{Hz}$"
          },
          "metadata": {}
        },
        {
          "output_type": "stream",
          "name": "stdout",
          "text": [
            "\n",
            "For a Temperature of:\n"
          ]
        },
        {
          "output_type": "display_data",
          "data": {
            "text/plain": [
              "<IPython.core.display.Math object>"
            ],
            "text/latex": "$\\displaystyle T=21.1385\\pm0 ~\\mathrm{K}$"
          },
          "metadata": {}
        }
      ]
    },
    {
      "cell_type": "markdown",
      "source": [
        "# Data 3"
      ],
      "metadata": {
        "id": "UvCG1IWl9X6C"
      }
    },
    {
      "cell_type": "code",
      "source": [
        "# # Import the values of the data, time,amplitude in voltage and temperature from file # #\n",
        "v= np.loadtxt( \"data3.txt\" , unpack = True , delimiter = \"\\t\",usecols = (0))\n",
        "v_error = v*0.003/100\n",
        "\n",
        "# # Time interval # #\n",
        "dt = 8\n",
        "t = np.arange(0,dt*len(v),dt)\n",
        "\n",
        "# # Frecuency and temperature of work\n",
        "T_ini = 26.8\n",
        "T_fin = 27.5\n",
        "T_value = np.mean( [T_ini,T_fin])\n",
        "errT_value = 0\n",
        "\n",
        "f_0 = 1.5781\n",
        "errf_0 = 0\n",
        "\n",
        "# # Declare units for the data # #\n",
        "t_unit = \"s\"\n",
        "v_unit = \"mVpp\"\n",
        "T_unit = \"K\"\n",
        "f_unit = \"Hz\"\n",
        "\n",
        "# # Fit of the data # #\n",
        "resval,rescov = curve_fit( f, t, v, [200,10],sigma = v_error)\n",
        "reserr = np.sqrt(np.diag(rescov))\n",
        "R2 = 1 - (np.sum( ( v - f( t, *resval) )**2 ) / np.sum( ( v - np.mean(v) )**2 ))\n",
        "\n",
        "\n",
        "# # Plot of the data with fit # #\n",
        "\n",
        "#sampling time\n",
        "h = max([abs((max(t)-min(t))/1000),1])\n",
        "fit_time = np.arange(min(t), max(t)+h, h)\n",
        "fit_amplitude = resval[0]*np.exp(-fit_time/resval[1])\n",
        "\n",
        "fig = plt.figure(figsize=(6,4), dpi=100);\n",
        "fig.suptitle(r\"Data for frecuency $f_0 = {0}$ {1} & temperature $T = {2:.1f}$ {3}\".format(f_0, f_unit, T_value, T_unit), size = 15)\n",
        "#(Data and fit plot)\n",
        "plt.grid()\n",
        "plt.xlabel(r\"$t$ ({0})\".format(t_unit), size = 10)\n",
        "plt.ylabel(r\"$Amplitude$ ({0})\".format(v_unit), size = 10)\n",
        "plt.plot(t,v,'.',c='k', ms=6)\n",
        "plt.errorbar(t, v, yerr=v_error, fmt=\".k\", capsize=0,alpha = 0.65,label=\"Data\")\n",
        "plt.plot(fit_time,fit_amplitude,'--',c='red',label=\"Fit\")\n",
        "plt.legend()\n",
        "#to make it look good\n",
        "plt.tight_layout()\n",
        "plt.show()\n",
        "\n",
        "# # Calculus of the Q-value # #\n",
        "Q_value = f_0*resval[1]*m.pi\n",
        "Q_error = Q_value*m.sqrt( (reserr[1]/resval[1])**2 + (errf_0/f_0)**2 )\n",
        "\n",
        "# # Display results # #\n",
        "print(\"\\nFor a fit of the type\")\n",
        "display(Math(\"y = a·\\exp(-x/b)\"))\n",
        "print(\"we got:\")\n",
        "display(Math(\"a = {0:.1f} \\pm {1:.1f}\".format(resval[0],reserr[0])))\n",
        "display(Math(\"b = {0:.0f} \\pm {1:.0f}\".format(resval[1],reserr[1])))\n",
        "display(Math(\"R^2= {0:.5f}\".format(R2)))\n",
        "print(\"\\nThis gives us a Q value of:\")\n",
        "display(Math(\"Q = {0:.0f} \\pm {1:.0f}\".format(Q_value,Q_error)))\n",
        "print(\"\\nFor a frecuency of:\")\n",
        "display(Math(\"f_0 = {0}\\pm{1} ~\\mathrm{{{2}}}\".format(f_0,errf_0,f_unit)))\n",
        "print(\"\\nFor a Temperature of:\")\n",
        "display(Math(\"T={0}\\pm{1} ~\\mathrm{{{2}}}\".format(T_value,errT_value,T_unit)))\n",
        "\n",
        "# # Store the value of Q and T # #\n",
        "i = 2\n",
        "Q[i] = Q_value\n",
        "errQ[i] = Q_error\n",
        "T[i] = T_value\n",
        "errT[i] = errT_value"
      ],
      "metadata": {
        "colab": {
          "base_uri": "https://localhost:8080/",
          "height": 719
        },
        "id": "u-C2AFRO8GDc",
        "outputId": "4d68f564-db2d-43e6-9c69-885d56c8c1ab"
      },
      "execution_count": null,
      "outputs": [
        {
          "output_type": "display_data",
          "data": {
            "text/plain": [
              "<Figure size 600x400 with 1 Axes>"
            ],
            "image/png": "[encoded data removed]"
          },
          "metadata": {
            "needs_background": "light"
          }
        },
        {
          "output_type": "stream",
          "name": "stdout",
          "text": [
            "\n",
            "For a fit of the type\n"
          ]
        },
        {
          "output_type": "display_data",
          "data": {
            "text/plain": [
              "<IPython.core.display.Math object>"
            ],
            "text/latex": "$\\displaystyle y = a·\\exp(-x/b)$"
          },
          "metadata": {}
        },
        {
          "output_type": "stream",
          "name": "stdout",
          "text": [
            "we got:\n"
          ]
        },
        {
          "output_type": "display_data",
          "data": {
            "text/plain": [
              "<IPython.core.display.Math object>"
            ],
            "text/latex": "$\\displaystyle a = 391.0 \\pm 17.9$"
          },
          "metadata": {}
        },
        {
          "output_type": "display_data",
          "data": {
            "text/plain": [
              "<IPython.core.display.Math object>"
            ],
            "text/latex": "$\\displaystyle b = 89 \\pm 3$"
          },
          "metadata": {}
        },
        {
          "output_type": "display_data",
          "data": {
            "text/plain": [
              "<IPython.core.display.Math object>"
            ],
            "text/latex": "$\\displaystyle R^2= 0.91141$"
          },
          "metadata": {}
        },
        {
          "output_type": "stream",
          "name": "stdout",
          "text": [
            "\n",
            "This gives us a Q value of:\n"
          ]
        },
        {
          "output_type": "display_data",
          "data": {
            "text/plain": [
              "<IPython.core.display.Math object>"
            ],
            "text/latex": "$\\displaystyle Q = 443 \\pm 13$"
          },
          "metadata": {}
        },
        {
          "output_type": "stream",
          "name": "stdout",
          "text": [
            "\n",
            "For a frecuency of:\n"
          ]
        },
        {
          "output_type": "display_data",
          "data": {
            "text/plain": [
              "<IPython.core.display.Math object>"
            ],
            "text/latex": "$\\displaystyle f_0 = 1.5781\\pm0 ~\\mathrm{Hz}$"
          },
          "metadata": {}
        },
        {
          "output_type": "stream",
          "name": "stdout",
          "text": [
            "\n",
            "For a Temperature of:\n"
          ]
        },
        {
          "output_type": "display_data",
          "data": {
            "text/plain": [
              "<IPython.core.display.Math object>"
            ],
            "text/latex": "$\\displaystyle T=27.15\\pm0 ~\\mathrm{K}$"
          },
          "metadata": {}
        }
      ]
    },
    {
      "cell_type": "markdown",
      "source": [
        "# Data 4"
      ],
      "metadata": {
        "id": "vG748esw-zgN"
      }
    },
    {
      "cell_type": "code",
      "source": [
        "# # Import the values of the data, time,amplitude in voltage and temperature from file # #\n",
        "v = np.loadtxt( \"data3.txt\" , unpack = True , delimiter = \"\\t\",usecols = (0))\n",
        "v_error = v*0.003/100\n",
        "\n",
        "# # Time interval # #\n",
        "dt = 16\n",
        "t = np.arange(0,dt*len(v),dt)\n",
        "\n",
        "# # Frecuency and temperature of work\n",
        "T_ini = 28.263\n",
        "T_fin = 29.76\n",
        "T_value = np.mean( [T_ini,T_fin])\n",
        "errT_value = 0\n",
        "\n",
        "f_0 = 1.5625\n",
        "errf_0 = 0\n",
        "\n",
        "# # Declare units for the data # #\n",
        "t_unit = \"s\"\n",
        "v_unit = \"mVpp\"\n",
        "T_unit = \"K\"\n",
        "f_unit = \"Hz\"\n",
        "\n",
        "# # Fit of the data # #\n",
        "resval,rescov = curve_fit( f, t, v, [200,10],sigma = v_error)\n",
        "reserr = np.sqrt(np.diag(rescov))\n",
        "R2 = 1 - (np.sum( ( v - f( t, *resval) )**2 ) / np.sum( ( v - np.mean(v) )**2 ))\n",
        "\n",
        "\n",
        "# # Plot of the data with fit # #\n",
        "\n",
        "#sampling time\n",
        "h = max([abs((max(t)-min(t))/1000),1])\n",
        "fit_time = np.arange(min(t), max(t)+h, h)\n",
        "fit_amplitude = resval[0]*np.exp(-fit_time/resval[1])\n",
        "\n",
        "fig = plt.figure(figsize=(6,4), dpi=100);\n",
        "fig.suptitle(r\"Data for frecuency $f_0 = {0}$ {1} & temperature $T = {2:.1f}$ {3}\".format(f_0, f_unit, T_value, T_unit), size = 15)\n",
        "#(Data and fit plot)\n",
        "plt.grid()\n",
        "plt.xlabel(r\"$t$ ({0})\".format(t_unit), size = 10)\n",
        "plt.ylabel(r\"$Amplitude$ ({0})\".format(v_unit), size = 10)\n",
        "plt.plot(t,v,'.',c='k', ms=6)\n",
        "plt.errorbar(t, v, yerr=v_error, fmt=\".k\", capsize=0,alpha = 0.65,label=\"Data\")\n",
        "plt.plot(fit_time,fit_amplitude,'--',c='red',label=\"Fit\")\n",
        "plt.legend()\n",
        "#to make it look good\n",
        "plt.tight_layout()\n",
        "plt.show()\n",
        "\n",
        "# # Calculus of the Q-value # #\n",
        "Q_value = f_0*resval[1]*m.pi\n",
        "Q_error = Q_value*m.sqrt( (reserr[1]/resval[1])**2 + (errf_0/f_0)**2 )\n",
        "\n",
        "# # Display results # #\n",
        "print(\"\\nFor a fit of the type\")\n",
        "display(Math(\"y = a·\\exp(-x/b)\"))\n",
        "print(\"we got:\")\n",
        "display(Math(\"a = {0:.1f} \\pm {1:.1f}\".format(resval[0],reserr[0])))\n",
        "display(Math(\"b = {0:.0f} \\pm {1:.0f}\".format(resval[1],reserr[1])))\n",
        "display(Math(\"R^2= {0:.5f}\".format(R2)))\n",
        "print(\"\\nThis gives us a Q value of:\")\n",
        "display(Math(\"Q = {0:.0f} \\pm {1:.0f}\".format(Q_value,Q_error)))\n",
        "print(\"\\nFor a frecuency of:\")\n",
        "display(Math(\"f_0 = {0}\\pm{1} ~\\mathrm{{{2}}}\".format(f_0,errf_0,f_unit)))\n",
        "print(\"\\nFor a Temperature of:\")\n",
        "display(Math(\"T={0}\\pm{1} ~\\mathrm{{{2}}}\".format(T_value,errT_value,T_unit)))\n",
        "\n",
        "# # Store the value of Q and T # #\n",
        "i = 3\n",
        "Q[i] = Q_value\n",
        "errQ[i] = Q_error\n",
        "T[i] = T_value\n",
        "errT[i] = errT_value"
      ],
      "metadata": {
        "colab": {
          "base_uri": "https://localhost:8080/",
          "height": 719
        },
        "id": "zIPcNiQS-2jl",
        "outputId": "6781c508-6ff3-4fd7-8e5e-e91ef7f120ac"
      },
      "execution_count": null,
      "outputs": [
        {
          "output_type": "display_data",
          "data": {
            "text/plain": [
              "<Figure size 600x400 with 1 Axes>"
            ],
            "image/png": "[encoded data removed]"
          },
          "metadata": {
            "needs_background": "light"
          }
        },
        {
          "output_type": "stream",
          "name": "stdout",
          "text": [
            "\n",
            "For a fit of the type\n"
          ]
        },
        {
          "output_type": "display_data",
          "data": {
            "text/plain": [
              "<IPython.core.display.Math object>"
            ],
            "text/latex": "$\\displaystyle y = a·\\exp(-x/b)$"
          },
          "metadata": {}
        },
        {
          "output_type": "stream",
          "name": "stdout",
          "text": [
            "we got:\n"
          ]
        },
        {
          "output_type": "display_data",
          "data": {
            "text/plain": [
              "<IPython.core.display.Math object>"
            ],
            "text/latex": "$\\displaystyle a = 391.0 \\pm 17.9$"
          },
          "metadata": {}
        },
        {
          "output_type": "display_data",
          "data": {
            "text/plain": [
              "<IPython.core.display.Math object>"
            ],
            "text/latex": "$\\displaystyle b = 179 \\pm 5$"
          },
          "metadata": {}
        },
        {
          "output_type": "display_data",
          "data": {
            "text/plain": [
              "<IPython.core.display.Math object>"
            ],
            "text/latex": "$\\displaystyle R^2= 0.91141$"
          },
          "metadata": {}
        },
        {
          "output_type": "stream",
          "name": "stdout",
          "text": [
            "\n",
            "This gives us a Q value of:\n"
          ]
        },
        {
          "output_type": "display_data",
          "data": {
            "text/plain": [
              "<IPython.core.display.Math object>"
            ],
            "text/latex": "$\\displaystyle Q = 878 \\pm 25$"
          },
          "metadata": {}
        },
        {
          "output_type": "stream",
          "name": "stdout",
          "text": [
            "\n",
            "For a frecuency of:\n"
          ]
        },
        {
          "output_type": "display_data",
          "data": {
            "text/plain": [
              "<IPython.core.display.Math object>"
            ],
            "text/latex": "$\\displaystyle f_0 = 1.5625\\pm0 ~\\mathrm{Hz}$"
          },
          "metadata": {}
        },
        {
          "output_type": "stream",
          "name": "stdout",
          "text": [
            "\n",
            "For a Temperature of:\n"
          ]
        },
        {
          "output_type": "display_data",
          "data": {
            "text/plain": [
              "<IPython.core.display.Math object>"
            ],
            "text/latex": "$\\displaystyle T=29.0115\\pm0 ~\\mathrm{K}$"
          },
          "metadata": {}
        }
      ]
    },
    {
      "cell_type": "markdown",
      "source": [
        "# Temperature plot"
      ],
      "metadata": {
        "id": "IX5FluHx_mD8"
      }
    },
    {
      "cell_type": "code",
      "source": [
        "fig = plt.figure(figsize=(6,4), dpi=100);\n",
        "fig.suptitle(r\"Values of Q Vs. T\", size = 15)\n",
        "#(Data and fit plot)\n",
        "plt.grid()\n",
        "plt.xlabel(r\"$T$ ({0})\".format(T_unit), size = 10)\n",
        "plt.ylabel(r\"$Q$\", size = 10)\n",
        "plt.plot(T,Q,'.',c='k', ms=6)\n",
        "plt.errorbar(T, Q, yerr=errQ,xerr=errT, fmt=\".k\", capsize=0,alpha = 0.65,label=\"$Q=Q(T)$\")\n",
        "plt.legend()\n",
        "#to make it look good\n",
        "plt.tight_layout()\n",
        "plt.show()"
      ],
      "metadata": {
        "colab": {
          "base_uri": "https://localhost:8080/",
          "height": 413
        },
        "id": "0we-83xa-9qJ",
        "outputId": "b81740d0-b042-403b-adae-c7e835dfd7b7"
      },
      "execution_count": null,
      "outputs": [
        {
          "output_type": "display_data",
          "data": {
            "text/plain": [
              "<Figure size 600x400 with 1 Axes>"
            ],
            "image/png": "[encoded data removed]"
          },
          "metadata": {
            "needs_background": "light"
          }
        }
      ]
    },
    {
      "cell_type": "code",
      "source": [],
      "metadata": {
        "id": "bzAFp9VsAOQE"
      },
      "execution_count": null,
      "outputs": []
    }
  ]
}