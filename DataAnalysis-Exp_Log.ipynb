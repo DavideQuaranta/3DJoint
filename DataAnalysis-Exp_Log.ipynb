{
 "cells": [
  {
   "cell_type": "code",
   "execution_count": 90,
   "id": "34f18000",
   "metadata": {},
   "outputs": [],
   "source": [
    "import numpy as np\n",
    "import matplotlib.pyplot as plt\n",
    "import math as m\n",
    "import pandas as pd\n",
    "from scipy.optimize import curve_fit\n",
    "from scipy.stats import chisquare\n",
    "from IPython.display import display, Math\n",
    "plt.rcParams['figure.max_open_warning'] = 200"
   ]
  },
  {
   "cell_type": "code",
   "execution_count": 91,
   "id": "c7fbcb90",
   "metadata": {},
   "outputs": [],
   "source": [
    "t_unit = \"s\"\n",
    "v_unit = \"mVpp\"\n",
    "T_unit = \"K\"\n",
    "f_unit = \"Hz\""
   ]
  },
  {
   "cell_type": "code",
   "execution_count": 92,
   "id": "a0657f33",
   "metadata": {},
   "outputs": [],
   "source": [
    "# # Definition of the function to fit # #\n",
    "def f(x,a,b):\n",
    "    res = (-1/a)*x + b\n",
    "    return res"
   ]
  },
  {
   "cell_type": "markdown",
   "id": "ac536efc",
   "metadata": {},
   "source": [
    "### User Functions [open only if needed; too much code :) ]"
   ]
  },
  {
   "cell_type": "code",
   "execution_count": 93,
   "id": "53a572e5",
   "metadata": {},
   "outputs": [],
   "source": [
    "# # Definition of the function to add incertity depending on the scale of the aparata # #\n",
    "def error(value):\n",
    "    if value < 1000 and value >= 100:\n",
    "      sensibility_error = 0.001/m.sqrt(12)\n",
    "    if value < 100 and value >= 10:\n",
    "      sensibility_error = 0.0001/m.sqrt(12)\n",
    "    if value < 10 and value >= 1:\n",
    "      sensibility_error = 0.00001/m.sqrt(12)\n",
    "    if value < 1 and value >= 0.1:\n",
    "      sensibility_error = 0.000001/m.sqrt(12)\n",
    "    reading_error = 0.0292*value #2.92% of the value\n",
    "    scale_error = 0.00025*10**3\n",
    "    err = m.sqrt( (sensibility_error)**2 + (reading_error)**2 + (scale_error)**2 )\n",
    "    return err\n",
    "\n",
    "\n",
    "def chidof(obs, exp, sigma, dof):\n",
    "    obs_arr = np.array(obs)\n",
    "    exp_arr = np.array(exp)\n",
    "    sigma_arr = np.array(sigma)\n",
    "    return sum((obs_arr - exp_arr)**2/sigma_arr**2) / dof\n",
    "\n",
    "\n",
    "def fitandplot(path, filename, f, initial, plot):\n",
    "    file = pd.ExcelFile(path+filename)\n",
    "    sheets = file.sheet_names\n",
    "    data = pd.read_excel(path+filename, sheet_name=None)\n",
    "\n",
    "    Q = []\n",
    "    errQ = []\n",
    "    T_mean = []\n",
    "    errT = []\n",
    "    chisq = []\n",
    "\n",
    "    for sheet in sheets:\n",
    "        v = data[sheet]['Voltage']\n",
    "        v_error = [error(val)/val for val in v]\n",
    "        v = np.log(v)\n",
    "#         v = v[7:]\n",
    "        \n",
    "        \n",
    "        t = data[sheet]['Time']\n",
    "#         t = t[7:]\n",
    "\n",
    "        T = data[sheet]['T']\n",
    "        T_value = np.mean(T)\n",
    "        T_error = abs(T[1]-T[0])/2\n",
    "\n",
    "        f_0 = data[sheet]['f0'][0]\n",
    "        errf_0 = (0.003/100)*f_0\n",
    "\n",
    "        t_unit = \"s\"\n",
    "        v_unit = \"mVpp\"\n",
    "        T_unit = \"K\"\n",
    "        f_unit = \"Hz\"\n",
    "\n",
    "        resval,rescov = curve_fit(f, t, v, initial, sigma = v_error)\n",
    "        reserr = np.sqrt(np.diag(rescov))\n",
    "        dof = len(v) - len(initial)\n",
    "        chi_norm = chidof(v, f(t,*resval), v_error, dof)\n",
    "\n",
    "        # # Calculus of the Q-value # #\n",
    "        tau = resval[0]\n",
    "        tau_err = reserr[0]\n",
    "        Q_value = f_0*tau*m.pi\n",
    "        Q_error = Q_value*m.sqrt( (tau_err/tau)**2 + (errf_0/f_0)**2 )\n",
    "\n",
    "        Q.append(Q_value)\n",
    "        errQ.append(Q_error)\n",
    "        T_mean.append(T_value)\n",
    "        errT.append(T_error)\n",
    "        chisq.append(chi_norm)\n",
    "        \n",
    "        if plot == True :\n",
    "            # # Plot of the data with fit # #\n",
    "            #sampling time\n",
    "            h = max([abs((max(t)-min(t))/1000),1])\n",
    "            fit_time = np.arange(min(t), max(t)+h, h)\n",
    "            fit_amplitude = f(fit_time, *resval)\n",
    "\n",
    "            fig = plt.figure(figsize=(6,4), dpi=100);\n",
    "            fig.suptitle(r\"Data from {0} of {1}\".format(sheet, filename))\n",
    "            plt.xlabel(r\"$t$ ({0})\".format(t_unit), size = 10)\n",
    "            plt.ylabel(r\"$Amplitude$ ({0})\".format(v_unit), size = 10)\n",
    "            plt.plot(t,v,'.',c='k', ms=6)\n",
    "            plt.errorbar(t, v, yerr=v_error, fmt=\".k\", capsize=3,alpha = 0.65,label=\"Data\")\n",
    "            plt.plot(fit_time,fit_amplitude,'--',c='red',label=\"Fit\")\n",
    "\n",
    "            textstr = '\\n'.join((\n",
    "            r'Q = {0:.2f} $\\pm$ {1:.2f}'.format(Q_value,Q_error),\n",
    "            r'T = {0:.2f} $\\pm$ {1:.2f} $\\mathrm{{{2}}}$'.format(T_value,T_error,T_unit),\n",
    "            r'$f_0$ = {0} $\\pm$ {1} $\\mathrm{{{2}}}$'.format(f_0,errf_0,f_unit),\n",
    "            r'$\\chi^2$/dof = {0:.2f} ({1})'.format(chi_norm, dof)))\n",
    "\n",
    "            props = dict(boxstyle='square', facecolor='white', alpha=1)\n",
    "\n",
    "            plt.text(0.6, 0.6, textstr, fontsize=10,\n",
    "                    verticalalignment='top',transform=fig.transFigure, bbox=props)\n",
    "            \n",
    "            plt.legend()\n",
    "            %config InlineBackend.figure_format='retina'\n",
    "            plt.tight_layout()\n",
    "            plt.grid()\n",
    "            plt.show()\n",
    "\n",
    "    return Q,errQ,T_mean,errT, chisq"
   ]
  },
  {
   "cell_type": "markdown",
   "id": "b622ea37",
   "metadata": {},
   "source": [
    "### Analysis"
   ]
  },
  {
   "cell_type": "code",
   "execution_count": 94,
   "id": "3a30278e",
   "metadata": {},
   "outputs": [],
   "source": [
    "files = [\"04_04\", \"06_04\", \"13_04\", \"14_04\", \"20_04\"]\n",
    "extension = \".xlsx\"\n",
    "path = \"C:/Users/Admin/Desktop/3DJoint_DataAnalysis/data/\""
   ]
  },
  {
   "cell_type": "code",
   "execution_count": 95,
   "id": "212a0b94",
   "metadata": {},
   "outputs": [],
   "source": [
    "data = []\n",
    "for i in range(len(files)):\n",
    "    data.append(pd.read_excel(path+files[i]+extension, sheet_name=None))"
   ]
  },
  {
   "cell_type": "code",
   "execution_count": 96,
   "id": "336bab80",
   "metadata": {},
   "outputs": [],
   "source": [
    "#This is needed to plot in floating window\n",
    "%matplotlib qt \n",
    "\n",
    "initial = [0.1, 0]\n",
    "\n",
    "# The function fitandplot takes as input : \n",
    "# path, filename, the fitting function, the initial guess list \n",
    "# and a boolean variable if you want or not the plots\n",
    "# Returns 4 arrays containing Q, T and their errors\n",
    "\n",
    "Q = []\n",
    "errQ = []\n",
    "T = []\n",
    "errT = []\n",
    "chisq = []\n",
    "\n",
    "\n",
    "for i in range(len(files)):\n",
    "    q, errq, t, errt, chi = fitandplot(path, files[i] + extension, f, initial, False)\n",
    "    Q.extend(q)\n",
    "    errQ.extend(errq)\n",
    "    T.extend(t)\n",
    "    errT.extend(errt)\n",
    "    chisq.extend(chi)"
   ]
  },
  {
   "cell_type": "code",
   "execution_count": 97,
   "id": "2464aba6",
   "metadata": {},
   "outputs": [],
   "source": [
    "n, bins, patches = plt.hist(chisq, bins = 10)"
   ]
  },
  {
   "cell_type": "code",
   "execution_count": 101,
   "id": "84257ee5",
   "metadata": {},
   "outputs": [],
   "source": [
    "# We now plot the results from 04_04 and 06_04\n",
    "%config InlineBackend.figure_format='retina'\n",
    "fig = plt.figure(figsize=(6,4), dpi=100);\n",
    "fig.suptitle('Q vs T')\n",
    "plt.xlabel(r\"$T$ ({0})\".format(T_unit), size = 10)\n",
    "plt.ylabel(r\"$Q$\",size = 10)\n",
    "\n",
    "plt.errorbar(T,Q, xerr = errT, yerr = errQ,fmt=\".\",color = 'r', lw = 1.5,\n",
    "             alpha = 0.6, capsize=3,label=\"Data \")\n",
    "\n",
    "\n",
    "plt.legend()\n",
    "plt.tight_layout()\n",
    "plt.grid()\n",
    "plt.show()"
   ]
  },
  {
   "cell_type": "code",
   "execution_count": 39,
   "id": "ca2b36ea",
   "metadata": {},
   "outputs": [
    {
     "data": {
      "text/plain": [
       "<matplotlib.collections.PolyCollection at 0x2676401aa10>"
      ]
     },
     "execution_count": 39,
     "metadata": {},
     "output_type": "execute_result"
    }
   ],
   "source": [
    "x = np.arange(0.1,1000, 0.1)\n",
    "y = [error(i) for i in x]\n",
    "plt.plot(x, x)\n",
    "plt.fill_between(x, x-y, x+y, alpha = 0.5)"
   ]
  },
  {
   "cell_type": "code",
   "execution_count": null,
   "id": "e3c5afec",
   "metadata": {},
   "outputs": [],
   "source": []
  }
 ],
 "metadata": {
  "kernelspec": {
   "display_name": "Python 3 (ipykernel)",
   "language": "python",
   "name": "python3"
  },
  "language_info": {
   "codemirror_mode": {
    "name": "ipython",
    "version": 3
   },
   "file_extension": ".py",
   "mimetype": "text/x-python",
   "name": "python",
   "nbconvert_exporter": "python",
   "pygments_lexer": "ipython3",
   "version": "3.10.9"
  }
 },
 "nbformat": 4,
 "nbformat_minor": 5
}
