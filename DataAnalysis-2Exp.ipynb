{
 "cells": [
  {
   "cell_type": "code",
   "execution_count": 42,
   "id": "34f18000",
   "metadata": {},
   "outputs": [],
   "source": [
    "import numpy as np\n",
    "import matplotlib.pyplot as plt\n",
    "import math as m\n",
    "import pandas as pd\n",
    "from scipy.optimize import curve_fit\n",
    "from scipy.stats import chisquare\n",
    "from IPython.display import display, Math\n",
    "plt.rcParams['figure.max_open_warning'] = 100"
   ]
  },
  {
   "cell_type": "code",
   "execution_count": 43,
   "id": "c7fbcb90",
   "metadata": {},
   "outputs": [],
   "source": [
    "t_unit = \"s\"\n",
    "v_unit = \"mVpp\"\n",
    "T_unit = \"K\"\n",
    "f_unit = \"Hz\""
   ]
  },
  {
   "cell_type": "code",
   "execution_count": 44,
   "id": "a0657f33",
   "metadata": {},
   "outputs": [],
   "source": [
    "# # Definition of the function to fit # #\n",
    "def f(x,a,b,c,d):\n",
    "    return a*(np.exp(-x/b) + np.exp(-x/d)) + c"
   ]
  },
  {
   "cell_type": "markdown",
   "id": "ac536efc",
   "metadata": {},
   "source": [
    "### User Functions [open only if needed; too much code :) ]"
   ]
  },
  {
   "cell_type": "code",
   "execution_count": 45,
   "id": "53a572e5",
   "metadata": {},
   "outputs": [],
   "source": [
    "# # Definition of the function to add incertity depending on the scale of the aparata # #\n",
    "def error(value):\n",
    "    if value < 1000 and value >= 100:\n",
    "      sensibility_error = 0.001/m.sqrt(12)\n",
    "    if value < 100 and value >= 10:\n",
    "      sensibility_error = 0.0001/m.sqrt(12)\n",
    "    if value < 10 and value >= 1:\n",
    "      sensibility_error = 0.00001/m.sqrt(12)\n",
    "    if value < 1 and value >= 0.1:\n",
    "      sensibility_error = 0.000001/m.sqrt(12)\n",
    "    reading_error = 0.0292*value #2.92% of the value\n",
    "    scale_error = 0.00025*10**3\n",
    "    err = m.sqrt( (sensibility_error)**2 + (reading_error)**2 +(scale_error)**2 )\n",
    "    return err\n",
    "\n",
    "def chidof(obs, exp, sigma, dof):\n",
    "    obs_arr = np.array(obs)\n",
    "    exp_arr = np.array(exp)\n",
    "    sigma_arr = np.array(sigma)\n",
    "    return sum((obs_arr - exp_arr)**2/sigma_arr**2) / dof\n",
    "\n",
    "def fitandplot(path, filename, function, initial, plot):\n",
    "    file = pd.ExcelFile(path+filename)\n",
    "    sheets = file.sheet_names\n",
    "    data = pd.read_excel(path+filename, sheet_name=None)\n",
    "\n",
    "    Q = []\n",
    "    errQ = []\n",
    "    Q2 = []\n",
    "    errQ2 = []\n",
    "    T_mean = []\n",
    "    errT = []\n",
    "\n",
    "    for sheet in sheets:\n",
    "        v = data[sheet]['Voltage']\n",
    "        v_error = [error(val) for val in v]\n",
    "        \n",
    "        t = data[sheet]['Time']\n",
    "\n",
    "        T = data[sheet]['T']\n",
    "        T_value = np.mean(T)\n",
    "        T_error = abs(T[1]-T[0])/2\n",
    "\n",
    "        f_0 = data[sheet]['f0'][0]\n",
    "        errf_0 = (0.003/100)*f_0\n",
    "\n",
    "        t_unit = \"s\"\n",
    "        v_unit = \"mVpp\"\n",
    "        T_unit = \"K\"\n",
    "        f_unit = \"Hz\"\n",
    "\n",
    "        resval,rescov = curve_fit(f, t, v, initial, sigma = v_error)\n",
    "        reserr = np.sqrt(np.diag(rescov))\n",
    "        dof = len(v) - len(initial)\n",
    "        chi_norm = chidof(v, f(t,*resval), v_error, dof)\n",
    "\n",
    "\n",
    "        # # Calculus of the Q-value # #\n",
    "        tau = [resval[1], resval[3]]\n",
    "        tau_err = [reserr[1], reserr[3]]\n",
    "        Q_value = [f_0*tau[0]*m.pi, f_0*tau[1]*m.pi]\n",
    "        Q_error = [Q_value[0]*m.sqrt( (tau_err[0]/tau[0])**2 + (errf_0/f_0)**2 ),\n",
    "                   Q_value[1]*m.sqrt( (tau_err[1]/tau[1])**2 + (errf_0/f_0)**2 )]\n",
    "        \n",
    "\n",
    "        Q.append(max(Q_value))\n",
    "        errQ.append(Q_error[Q_value.index(max(Q_value))])\n",
    "        Q2.append(min(Q_value))\n",
    "        errQ2.append(Q_error[Q_value.index(min(Q_value))])\n",
    "        T_mean.append(T_value)\n",
    "        errT.append(T_error)\n",
    "        chisq.append(chi_norm)\n",
    "        \n",
    "        if plot == True :\n",
    "            # # Plot of the data with fit # #\n",
    "            #sampling time\n",
    "            h = max([abs((max(t)-min(t))/1000),1])\n",
    "            fit_time = np.arange(min(t), max(t)+h, h)\n",
    "            fit_amplitude = resval[0]*np.exp(-fit_time/resval[1])\n",
    "\n",
    "            fig = plt.figure(figsize=(6,4), dpi=100);\n",
    "            fig.suptitle(r\"Data from {0} of {1}\".format(sheet, filename))\n",
    "            plt.xlabel(r\"$t$ ({0})\".format(t_unit), size = 10)\n",
    "            plt.ylabel(r\"$Amplitude$ ({0})\".format(v_unit), size = 10)\n",
    "            plt.plot(t,v,'.',c='k', ms=6)\n",
    "            plt.errorbar(t, v, yerr=v_error, fmt=\".k\", capsize=3,alpha = 0.65,label=\"Data\")\n",
    "            plt.plot(fit_time,f(fit_time, *resval),'--',c='red',label=\"Fit\")\n",
    "\n",
    "            textstr = '\\n'.join((\n",
    "            r'Q = {0:.2f} $\\pm$ {1:.2f}'.format(max(Q_value),Q_error[Q_value.index(max(Q_value))]),\n",
    "            r'Q2 = {0:.2f} $\\pm$ {1:.2f}'.format(min(Q_value),Q_error[Q_value.index(min(Q_value))]),\n",
    "            r'T = {0:.2f} $\\pm$ {1:.2f} $\\mathrm{{{2}}}$'.format(T_value,T_error,T_unit),\n",
    "            r'$f_0$ = {0} $\\pm$ {1} $\\mathrm{{{2}}}$'.format(f_0,errf_0,f_unit),\n",
    "            r'$\\chi^2$/dof = {0:.2f} ({1})'.format(chi_norm, dof)))\n",
    "\n",
    "            props = dict(boxstyle='square', facecolor='white', alpha=1)\n",
    "\n",
    "            plt.text(0.6, 0.6, textstr, fontsize=10,\n",
    "                    verticalalignment='top',transform=fig.transFigure, bbox=props)\n",
    "            \n",
    "            plt.legend()\n",
    "            %config InlineBackend.figure_format='retina'\n",
    "            plt.tight_layout()\n",
    "            plt.grid()\n",
    "            plt.show()\n",
    "\n",
    "    return Q, errQ, Q2, errQ2, T_mean, errT, chisq"
   ]
  },
  {
   "cell_type": "markdown",
   "id": "b622ea37",
   "metadata": {},
   "source": [
    "### Analysis"
   ]
  },
  {
   "cell_type": "code",
   "execution_count": 46,
   "id": "212a0b94",
   "metadata": {},
   "outputs": [],
   "source": [
    "files = [\"04_04\", \"06_04\", \"13_04\", \"14_04\", \"20_04\"]\n",
    "extension = \".xlsx\"\n",
    "path = \"C:/Users/Admin/Desktop/3DJoint_DataAnalysis/data/\""
   ]
  },
  {
   "cell_type": "code",
   "execution_count": 47,
   "id": "46192025",
   "metadata": {},
   "outputs": [],
   "source": [
    "data = []\n",
    "for i in range(len(files)):\n",
    "    data.append(pd.read_excel(path+files[i]+extension, sheet_name=None))"
   ]
  },
  {
   "cell_type": "code",
   "execution_count": 56,
   "id": "336bab80",
   "metadata": {},
   "outputs": [],
   "source": [
    "#This is needed to plot in floating window\n",
    "%matplotlib qt \n",
    "\n",
    "initial = [500,90,1,10]\n",
    "\n",
    "Q = []\n",
    "errQ = []\n",
    "Q2 = []\n",
    "errQ2 = []\n",
    "T = []\n",
    "errT = []\n",
    "chisq = []\n",
    "\n",
    "# files = ['04_04']\n",
    "\n",
    "# The function fitandplot takes as input : \n",
    "# path, filename, the fitting function, the initial guess list \n",
    "# and a boolean variable if you want or not the plots\n",
    "# Returns 4 arrays containing Q, T and their errors\n",
    "\n",
    "for i in range(len(files)):\n",
    "    q, errq, q2, errq2, t, errt, chi = fitandplot(path, files[i] + extension, f, initial, False)\n",
    "    Q.extend(q)\n",
    "    errQ.extend(errq)\n",
    "    Q2.extend(q2)\n",
    "    errQ2.extend(errq2 )\n",
    "    T.extend(t)\n",
    "    errT.extend(errt)\n",
    "    chisq.extend(chi)"
   ]
  },
  {
   "cell_type": "code",
   "execution_count": 57,
   "id": "84257ee5",
   "metadata": {},
   "outputs": [],
   "source": [
    "# We now plot the results from 04_04 and 06_04\n",
    "\n",
    "fig = plt.figure(figsize=(6,4), dpi=100);\n",
    "fig.suptitle('Q vs T')\n",
    "plt.xlabel(r\"$T$ ({0})\".format(T_unit), size = 10)\n",
    "plt.ylabel(r\"$Q$\",size = 10)\n",
    "\n",
    "\n",
    "plt.errorbar(T,Q, xerr = errT, yerr = errQ,fmt=\".r\", capsize=3,label=\"Q high\")\n",
    "plt.errorbar(T,Q2, xerr = errT, yerr = errQ2,fmt=\".b\", capsize=3,label=\"Q low\")\n",
    "\n",
    "plt.legend()\n",
    "%config InlineBackend.figure_format='retina'\n",
    "plt.tight_layout()\n",
    "plt.grid()\n",
    "# plt.ylim(0,1000)\n",
    "plt.show()"
   ]
  },
  {
   "cell_type": "code",
   "execution_count": 59,
   "id": "55787740",
   "metadata": {},
   "outputs": [
    {
     "data": {
      "text/plain": [
       "<ErrorbarContainer object of 3 artists>"
      ]
     },
     "execution_count": 59,
     "metadata": {},
     "output_type": "execute_result"
    }
   ],
   "source": [
    "M = 1/((1/np.array(Q2)) - (1/np.array(Q)))\n",
    "plt.errorbar(T,M, xerr = errT, yerr = 0,fmt=\".r\", capsize=3,label=\"Q high\")"
   ]
  },
  {
   "cell_type": "code",
   "execution_count": null,
   "id": "b16c3ebc",
   "metadata": {},
   "outputs": [],
   "source": []
  }
 ],
 "metadata": {
  "kernelspec": {
   "display_name": "Python 3 (ipykernel)",
   "language": "python",
   "name": "python3"
  },
  "language_info": {
   "codemirror_mode": {
    "name": "ipython",
    "version": 3
   },
   "file_extension": ".py",
   "mimetype": "text/x-python",
   "name": "python",
   "nbconvert_exporter": "python",
   "pygments_lexer": "ipython3",
   "version": "3.10.9"
  }
 },
 "nbformat": 4,
 "nbformat_minor": 5
}
