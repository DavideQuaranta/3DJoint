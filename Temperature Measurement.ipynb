{
 "cells": [
  {
   "cell_type": "code",
   "execution_count": null,
   "id": "15a18b54",
   "metadata": {},
   "outputs": [],
   "source": [
    "from datetime import datetime\n",
    "import matplotlib.pyplot as plt\n",
    "import pandas as pd\n",
    "import numpy as np\n",
    "from matplotlib import dates"
   ]
  },
  {
   "cell_type": "code",
   "execution_count": null,
   "id": "6a0316b7",
   "metadata": {},
   "outputs": [],
   "source": [
    "t_start = []\n",
    "t_stop = []\n",
    "t_mean = []\n",
    "T_start = []\n",
    "T_stop = []\n",
    "T_mean = []\n",
    "\n",
    "data = {\n",
    "    't_start' : t_start,\n",
    "    't_stop' : t_stop,\n",
    "    'T_start' : T_start,\n",
    "    'T_stop' : T_stop,\n",
    "    'T_mean' : T_mean}\n",
    "\n",
    "# Remember to change the name of the file\n",
    "# Otherwise you can overwrite existing data\n",
    "\n",
    "filename = 'Temp_data.xlsx'"
   ]
  },
  {
   "cell_type": "code",
   "execution_count": null,
   "id": "ac46c6b0",
   "metadata": {},
   "outputs": [],
   "source": [
    "T1 = 10 #start temperature to append\n",
    "T_start.append(T1) #put in brackets the start temperature to append\n",
    "now = datetime.now()\n",
    "t1 = now.strftime(\"%H:%M:%S\")\n",
    "t_start.append(t1)"
   ]
  },
  {
   "cell_type": "code",
   "execution_count": null,
   "id": "10b8ecd7",
   "metadata": {},
   "outputs": [],
   "source": [
    "T2 = 0#stop temperature to append\n",
    "\n",
    "T_stop.append(T2)\n",
    "now = datetime.now()\n",
    "t2 = now.strftime(\"%H:%M:%S\")\n",
    "t_stop.append(t2)"
   ]
  },
  {
   "cell_type": "code",
   "execution_count": null,
   "id": "be3106b5",
   "metadata": {},
   "outputs": [],
   "source": [
    "T_mean.append(0.5*(abs(T2+T1)))\n",
    "df = pd.DataFrame(data)\n",
    "df.to_excel(filename)"
   ]
  },
  {
   "cell_type": "code",
   "execution_count": null,
   "id": "75582e0a",
   "metadata": {},
   "outputs": [],
   "source": [
    "plt.plot_date(dates.datestr2num(t_start),T_start,color = 'blue', label = 'start')\n",
    "plt.plot_date(dates.datestr2num(t_stop),T_stop,color = 'orange', label = 'stop')\n",
    "plt.xlabel('Time')\n",
    "plt.ylabel('Temperature [K]')\n",
    "plt.legend()\n",
    "plt.show()"
   ]
  },
  {
   "cell_type": "code",
   "execution_count": null,
   "id": "6772ba69",
   "metadata": {},
   "outputs": [],
   "source": [
    "df"
   ]
  },
  {
   "cell_type": "code",
   "execution_count": null,
   "id": "48a28888",
   "metadata": {},
   "outputs": [],
   "source": []
  }
 ],
 "metadata": {
  "kernelspec": {
   "display_name": "Python 3 (ipykernel)",
   "language": "python",
   "name": "python3"
  },
  "language_info": {
   "codemirror_mode": {
    "name": "ipython",
    "version": 3
   },
   "file_extension": ".py",
   "mimetype": "text/x-python",
   "name": "python",
   "nbconvert_exporter": "python",
   "pygments_lexer": "ipython3",
   "version": "3.10.9"
  }
 },
 "nbformat": 4,
 "nbformat_minor": 5
}
