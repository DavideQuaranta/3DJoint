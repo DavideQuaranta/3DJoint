{
 "cells": [
  {
   "cell_type": "code",
   "execution_count": 1,
   "id": "8f1559bd",
   "metadata": {},
   "outputs": [],
   "source": [
    "import jointlib as lib\n",
    "import matplotlib.pyplot as plt\n",
    "import numpy as np\n",
    "import pandas as pd\n",
    "plt.rcParams['figure.max_open_warning'] = 200"
   ]
  },
  {
   "cell_type": "code",
   "execution_count": 2,
   "id": "a04486a6",
   "metadata": {},
   "outputs": [],
   "source": [
    "files = [\"04_04\", \"06_04\", \"13_04\", \"14_04\"]\n",
    "extension = \".xlsx\"\n",
    "path = \"C:/Users/Admin/Desktop/3DJoint_DataAnalysis/data/\""
   ]
  },
  {
   "cell_type": "code",
   "execution_count": 8,
   "id": "216dfd52",
   "metadata": {},
   "outputs": [],
   "source": [
    "## Definition of the function to fit ##\n",
    "def f(x,a,tau):\n",
    "    res = a*np.exp(-x/tau)\n",
    "    return res"
   ]
  },
  {
   "cell_type": "code",
   "execution_count": 9,
   "id": "155d51cd",
   "metadata": {},
   "outputs": [],
   "source": [
    "%matplotlib qt \n",
    "\n",
    "initial = [300, 10]\n",
    "\n",
    "Q = []\n",
    "errQ = []\n",
    "T = []\n",
    "errT = []\n",
    "chi = []\n",
    "\n",
    "for file in files:\n",
    "    sheets = pd.ExcelFile(path+file+extension).sheet_names\n",
    "    for sheet in sheets:\n",
    "        par, chisq, t, errt, f0, errf0 = lib.fitdata(path, file+extension, sheet, f, initial, \n",
    "                                                            plot = False, verbose = False)\n",
    "        T.append(t)\n",
    "        errT.append(errt)\n",
    "        q, errq = lib.getQ(par[1][1], par[2][1], f0, errf0)\n",
    "        Q.append(q)\n",
    "        errQ.append(errq)\n",
    "        chi.append(chisq)"
   ]
  },
  {
   "cell_type": "code",
   "execution_count": 10,
   "id": "78e6febb",
   "metadata": {},
   "outputs": [],
   "source": [
    "plt.title('Q vs T')\n",
    "plt.xlabel(r\"$T$ ({0})\".format('K'), size = 10)\n",
    "plt.ylabel(r\"$Q$\",size = 10)\n",
    "\n",
    "plt.errorbar(T,Q, xerr = errT, yerr = errQ, fmt=\".\",lw = 1.5,\n",
    "                 alpha = 0.6, capsize=3, label=\"Data \")\n",
    "\n",
    "\n",
    "plt.legend()\n",
    "plt.tight_layout()\n",
    "plt.grid()\n",
    "plt.show()"
   ]
  },
  {
   "cell_type": "code",
   "execution_count": 66,
   "id": "813917d1",
   "metadata": {},
   "outputs": [],
   "source": [
    "x = np.arange(0.1,700, 0.01) #mVpp\n",
    "y = x\n",
    "yerr = [lib.error(val) for val in y]\n",
    "plt.plot(x,y)\n",
    "plt.fill_between(x, y+yerr, y-yerr, alpha = 0.5);"
   ]
  }
 ],
 "metadata": {
  "kernelspec": {
   "display_name": "Python 3 (ipykernel)",
   "language": "python",
   "name": "python3"
  },
  "language_info": {
   "codemirror_mode": {
    "name": "ipython",
    "version": 3
   },
   "file_extension": ".py",
   "mimetype": "text/x-python",
   "name": "python",
   "nbconvert_exporter": "python",
   "pygments_lexer": "ipython3",
   "version": "3.10.9"
  }
 },
 "nbformat": 4,
 "nbformat_minor": 5
}
