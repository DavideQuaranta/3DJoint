{
 "cells": [
  {
   "cell_type": "code",
   "execution_count": 15,
   "id": "ae447cbb",
   "metadata": {},
   "outputs": [],
   "source": [
    "import numpy as np\n",
    "import matplotlib.pyplot as plt\n",
    "import math as m\n",
    "import pandas as pd\n",
    "from scipy.optimize import curve_fit\n",
    "from IPython.display import display, Math"
   ]
  },
  {
   "cell_type": "code",
   "execution_count": 23,
   "id": "7367aeb1",
   "metadata": {},
   "outputs": [],
   "source": [
    "path = \"C:/Users/Admin/Desktop/3DJoint_DataAnalysis/data/\""
   ]
  },
  {
   "cell_type": "code",
   "execution_count": 24,
   "id": "13ddc2d0",
   "metadata": {},
   "outputs": [],
   "source": [
    "def convert(times):\n",
    "  converted = []\n",
    "  for i in range(len(times)):\n",
    "    hours = int(times[i][0:2])\n",
    "    minutes = int(times[i][3:5])\n",
    "    seconds = int(times[i][6:8])\n",
    "    converted.append(seconds + 60*minutes + 60*60*hours)\n",
    "  return converted"
   ]
  },
  {
   "cell_type": "code",
   "execution_count": 60,
   "id": "b2781658",
   "metadata": {
    "scrolled": true
   },
   "outputs": [],
   "source": [
    "%matplotlib qt\n",
    "%config InlineBackend.figure_format='retina'\n",
    "for i in range(7):\n",
    "    data = pd.read_excel(path+f\"TvsTime_{i+1}.xlsx\")\n",
    "    timesec = np.array(convert(data['time']))\n",
    "    T = data['T']\n",
    "    plt.plot(timesec,T,'o-',markersize = '3', label = f'TvsTime_{i+1}')\n",
    "#plt.legend()\n",
    "plt.grid()\n",
    "plt.show()"
   ]
  },
  {
   "cell_type": "code",
   "execution_count": null,
   "id": "14c9c61f",
   "metadata": {},
   "outputs": [],
   "source": []
  }
 ],
 "metadata": {
  "kernelspec": {
   "display_name": "Python 3 (ipykernel)",
   "language": "python",
   "name": "python3"
  },
  "language_info": {
   "codemirror_mode": {
    "name": "ipython",
    "version": 3
   },
   "file_extension": ".py",
   "mimetype": "text/x-python",
   "name": "python",
   "nbconvert_exporter": "python",
   "pygments_lexer": "ipython3",
   "version": "3.10.9"
  }
 },
 "nbformat": 4,
 "nbformat_minor": 5
}
